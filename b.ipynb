{
 "cells": [
  {
   "cell_type": "markdown",
   "metadata": {
    "id": "8XDkAbyQAIc1"
   },
   "source": [
    "# Student's Dropout Prediction using Supervised Machine Learning Classifiers"
   ]
  },
  {
   "cell_type": "code",
   "execution_count": 153,
   "metadata": {
    "colab": {
     "base_uri": "https://localhost:8080/"
    },
    "id": "eQ7rTWf4AIc9",
    "outputId": "767d5909-d368-4932-e2bb-2caedb3c6773"
   },
   "outputs": [
    {
     "name": "stdout",
     "output_type": "stream",
     "text": [
      "Requirement already satisfied: kaleido in c:\\users\\hari\\anaconda3\\envs\\ds\\lib\\site-packages (0.2.1)\n"
     ]
    }
   ],
   "source": [
    "import numpy as np\n",
    "import pandas as pd\n",
    "from tqdm import tqdm\n",
    "\n",
    "# Data Visualization\n",
    "import matplotlib.pyplot as plt\n",
    "import plotly.express as px\n",
    "import plotly.graph_objects as go\n",
    "from plotly.subplots import make_subplots\n",
    "import os\n",
    "from datetime import datetime\n",
    "import base64\n",
    "from io import BytesIO\n",
    "\n",
    "\n",
    "# Data pre-processing\n",
    "from sklearn.preprocessing import StandardScaler\n",
    "\n",
    "# Data splitting\n",
    "from sklearn.model_selection import train_test_split\n",
    "\n",
    "# Machine learning Models\n",
    "from sklearn.decomposition import PCA\n",
    "from sklearn.model_selection import GridSearchCV\n",
    "from sklearn.linear_model import LogisticRegression\n",
    "from sklearn.tree import DecisionTreeClassifier\n",
    "from sklearn.svm import SVC\n",
    "from sklearn.ensemble import RandomForestClassifier\n",
    "from sklearn.neighbors import KNeighborsClassifier\n",
    "\n",
    "\n",
    "# Evaluation metrics\n",
    "from sklearn.metrics import accuracy_score\n",
    "from sklearn.metrics import confusion_matrix, ConfusionMatrixDisplay\n",
    "from sklearn.metrics import roc_curve, auc\n",
    "\n",
    "\n",
    "#Installing dependencies\n",
    "!pip install -U kaleido"
   ]
  },
  {
   "cell_type": "code",
   "execution_count": 154,
   "metadata": {},
   "outputs": [],
   "source": [
    "# Create directory for report assets\n",
    "os.makedirs('report_assets', exist_ok=True)\n",
    "\n",
    "# Function to save figures as base64 for embedding in HTML\n",
    "def fig_to_base64(fig, format='png'):\n",
    "    buf = BytesIO()\n",
    "    if hasattr(fig, 'write_image'):  # Check if the figure is a Plotly figure\n",
    "        fig.write_image(buf, format=format)\n",
    "    else:  # Assume the figure is a Matplotlib figure\n",
    "        fig.savefig(buf, format=format)\n",
    "    buf.seek(0)\n",
    "    img_str = base64.b64encode(buf.read()).decode('utf-8')\n",
    "    return f'data:image/{format};base64,{img_str}'\n"
   ]
  },
  {
   "cell_type": "code",
   "execution_count": 155,
   "metadata": {
    "colab": {
     "base_uri": "https://localhost:8080/",
     "height": 278
    },
    "id": "dlWMlU8RElAp",
    "outputId": "0d4758e6-be4a-4bb9-a410-e84496be3778"
   },
   "outputs": [
    {
     "data": {
      "text/html": [
       "<div>\n",
       "<style scoped>\n",
       "    .dataframe tbody tr th:only-of-type {\n",
       "        vertical-align: middle;\n",
       "    }\n",
       "\n",
       "    .dataframe tbody tr th {\n",
       "        vertical-align: top;\n",
       "    }\n",
       "\n",
       "    .dataframe thead th {\n",
       "        text-align: right;\n",
       "    }\n",
       "</style>\n",
       "<table border=\"1\" class=\"dataframe\">\n",
       "  <thead>\n",
       "    <tr style=\"text-align: right;\">\n",
       "      <th></th>\n",
       "      <th>Marital status</th>\n",
       "      <th>Application mode</th>\n",
       "      <th>Application order</th>\n",
       "      <th>Course</th>\n",
       "      <th>Daytime/evening attendance</th>\n",
       "      <th>Previous qualification</th>\n",
       "      <th>Nationality</th>\n",
       "      <th>Mother's qualification</th>\n",
       "      <th>Father's qualification</th>\n",
       "      <th>Mother's occupation</th>\n",
       "      <th>Father's occupation</th>\n",
       "      <th>Displaced</th>\n",
       "      <th>Educational special needs</th>\n",
       "      <th>Debtor</th>\n",
       "      <th>Tuition fees up to date</th>\n",
       "      <th>Gender</th>\n",
       "      <th>Scholarship holder</th>\n",
       "      <th>Age at enrollment</th>\n",
       "      <th>International</th>\n",
       "      <th>Curricular units 1st sem (credited)</th>\n",
       "      <th>Curricular units 1st sem (enrolled)</th>\n",
       "      <th>Curricular units 1st sem (evaluations)</th>\n",
       "      <th>Curricular units 1st sem (approved)</th>\n",
       "      <th>Curricular units 1st sem (grade)</th>\n",
       "      <th>Curricular units 1st sem (without evaluations)</th>\n",
       "      <th>Curricular units 2nd sem (credited)</th>\n",
       "      <th>Curricular units 2nd sem (enrolled)</th>\n",
       "      <th>Curricular units 2nd sem (evaluations)</th>\n",
       "      <th>Curricular units 2nd sem (approved)</th>\n",
       "      <th>Curricular units 2nd sem (grade)</th>\n",
       "      <th>Curricular units 2nd sem (without evaluations)</th>\n",
       "      <th>Unemployment rate</th>\n",
       "      <th>Inflation rate</th>\n",
       "      <th>GDP</th>\n",
       "      <th>Target</th>\n",
       "    </tr>\n",
       "  </thead>\n",
       "  <tbody>\n",
       "    <tr>\n",
       "      <th>0</th>\n",
       "      <td>1</td>\n",
       "      <td>8</td>\n",
       "      <td>5</td>\n",
       "      <td>2</td>\n",
       "      <td>1</td>\n",
       "      <td>1</td>\n",
       "      <td>1</td>\n",
       "      <td>13</td>\n",
       "      <td>10</td>\n",
       "      <td>6</td>\n",
       "      <td>10</td>\n",
       "      <td>1</td>\n",
       "      <td>0</td>\n",
       "      <td>0</td>\n",
       "      <td>1</td>\n",
       "      <td>1</td>\n",
       "      <td>0</td>\n",
       "      <td>20</td>\n",
       "      <td>0</td>\n",
       "      <td>0</td>\n",
       "      <td>0</td>\n",
       "      <td>0</td>\n",
       "      <td>0</td>\n",
       "      <td>0.000000</td>\n",
       "      <td>0</td>\n",
       "      <td>0</td>\n",
       "      <td>0</td>\n",
       "      <td>0</td>\n",
       "      <td>0</td>\n",
       "      <td>0.000000</td>\n",
       "      <td>0</td>\n",
       "      <td>10.8</td>\n",
       "      <td>1.4</td>\n",
       "      <td>1.74</td>\n",
       "      <td>Dropout</td>\n",
       "    </tr>\n",
       "    <tr>\n",
       "      <th>1</th>\n",
       "      <td>1</td>\n",
       "      <td>6</td>\n",
       "      <td>1</td>\n",
       "      <td>11</td>\n",
       "      <td>1</td>\n",
       "      <td>1</td>\n",
       "      <td>1</td>\n",
       "      <td>1</td>\n",
       "      <td>3</td>\n",
       "      <td>4</td>\n",
       "      <td>4</td>\n",
       "      <td>1</td>\n",
       "      <td>0</td>\n",
       "      <td>0</td>\n",
       "      <td>0</td>\n",
       "      <td>1</td>\n",
       "      <td>0</td>\n",
       "      <td>19</td>\n",
       "      <td>0</td>\n",
       "      <td>0</td>\n",
       "      <td>6</td>\n",
       "      <td>6</td>\n",
       "      <td>6</td>\n",
       "      <td>14.000000</td>\n",
       "      <td>0</td>\n",
       "      <td>0</td>\n",
       "      <td>6</td>\n",
       "      <td>6</td>\n",
       "      <td>6</td>\n",
       "      <td>13.666667</td>\n",
       "      <td>0</td>\n",
       "      <td>13.9</td>\n",
       "      <td>-0.3</td>\n",
       "      <td>0.79</td>\n",
       "      <td>Graduate</td>\n",
       "    </tr>\n",
       "    <tr>\n",
       "      <th>2</th>\n",
       "      <td>1</td>\n",
       "      <td>1</td>\n",
       "      <td>5</td>\n",
       "      <td>5</td>\n",
       "      <td>1</td>\n",
       "      <td>1</td>\n",
       "      <td>1</td>\n",
       "      <td>22</td>\n",
       "      <td>27</td>\n",
       "      <td>10</td>\n",
       "      <td>10</td>\n",
       "      <td>1</td>\n",
       "      <td>0</td>\n",
       "      <td>0</td>\n",
       "      <td>0</td>\n",
       "      <td>1</td>\n",
       "      <td>0</td>\n",
       "      <td>19</td>\n",
       "      <td>0</td>\n",
       "      <td>0</td>\n",
       "      <td>6</td>\n",
       "      <td>0</td>\n",
       "      <td>0</td>\n",
       "      <td>0.000000</td>\n",
       "      <td>0</td>\n",
       "      <td>0</td>\n",
       "      <td>6</td>\n",
       "      <td>0</td>\n",
       "      <td>0</td>\n",
       "      <td>0.000000</td>\n",
       "      <td>0</td>\n",
       "      <td>10.8</td>\n",
       "      <td>1.4</td>\n",
       "      <td>1.74</td>\n",
       "      <td>Dropout</td>\n",
       "    </tr>\n",
       "    <tr>\n",
       "      <th>3</th>\n",
       "      <td>1</td>\n",
       "      <td>8</td>\n",
       "      <td>2</td>\n",
       "      <td>15</td>\n",
       "      <td>1</td>\n",
       "      <td>1</td>\n",
       "      <td>1</td>\n",
       "      <td>23</td>\n",
       "      <td>27</td>\n",
       "      <td>6</td>\n",
       "      <td>4</td>\n",
       "      <td>1</td>\n",
       "      <td>0</td>\n",
       "      <td>0</td>\n",
       "      <td>1</td>\n",
       "      <td>0</td>\n",
       "      <td>0</td>\n",
       "      <td>20</td>\n",
       "      <td>0</td>\n",
       "      <td>0</td>\n",
       "      <td>6</td>\n",
       "      <td>8</td>\n",
       "      <td>6</td>\n",
       "      <td>13.428571</td>\n",
       "      <td>0</td>\n",
       "      <td>0</td>\n",
       "      <td>6</td>\n",
       "      <td>10</td>\n",
       "      <td>5</td>\n",
       "      <td>12.400000</td>\n",
       "      <td>0</td>\n",
       "      <td>9.4</td>\n",
       "      <td>-0.8</td>\n",
       "      <td>-3.12</td>\n",
       "      <td>Graduate</td>\n",
       "    </tr>\n",
       "    <tr>\n",
       "      <th>4</th>\n",
       "      <td>2</td>\n",
       "      <td>12</td>\n",
       "      <td>1</td>\n",
       "      <td>3</td>\n",
       "      <td>0</td>\n",
       "      <td>1</td>\n",
       "      <td>1</td>\n",
       "      <td>22</td>\n",
       "      <td>28</td>\n",
       "      <td>10</td>\n",
       "      <td>10</td>\n",
       "      <td>0</td>\n",
       "      <td>0</td>\n",
       "      <td>0</td>\n",
       "      <td>1</td>\n",
       "      <td>0</td>\n",
       "      <td>0</td>\n",
       "      <td>45</td>\n",
       "      <td>0</td>\n",
       "      <td>0</td>\n",
       "      <td>6</td>\n",
       "      <td>9</td>\n",
       "      <td>5</td>\n",
       "      <td>12.333333</td>\n",
       "      <td>0</td>\n",
       "      <td>0</td>\n",
       "      <td>6</td>\n",
       "      <td>6</td>\n",
       "      <td>6</td>\n",
       "      <td>13.000000</td>\n",
       "      <td>0</td>\n",
       "      <td>13.9</td>\n",
       "      <td>-0.3</td>\n",
       "      <td>0.79</td>\n",
       "      <td>Graduate</td>\n",
       "    </tr>\n",
       "  </tbody>\n",
       "</table>\n",
       "</div>"
      ],
      "text/plain": [
       "   Marital status  Application mode  Application order  Course  \\\n",
       "0               1                 8                  5       2   \n",
       "1               1                 6                  1      11   \n",
       "2               1                 1                  5       5   \n",
       "3               1                 8                  2      15   \n",
       "4               2                12                  1       3   \n",
       "\n",
       "   Daytime/evening attendance  Previous qualification  Nationality  \\\n",
       "0                           1                       1            1   \n",
       "1                           1                       1            1   \n",
       "2                           1                       1            1   \n",
       "3                           1                       1            1   \n",
       "4                           0                       1            1   \n",
       "\n",
       "   Mother's qualification  Father's qualification  Mother's occupation  \\\n",
       "0                      13                      10                    6   \n",
       "1                       1                       3                    4   \n",
       "2                      22                      27                   10   \n",
       "3                      23                      27                    6   \n",
       "4                      22                      28                   10   \n",
       "\n",
       "   Father's occupation  Displaced  Educational special needs  Debtor  \\\n",
       "0                   10          1                          0       0   \n",
       "1                    4          1                          0       0   \n",
       "2                   10          1                          0       0   \n",
       "3                    4          1                          0       0   \n",
       "4                   10          0                          0       0   \n",
       "\n",
       "   Tuition fees up to date  Gender  Scholarship holder  Age at enrollment  \\\n",
       "0                        1       1                   0                 20   \n",
       "1                        0       1                   0                 19   \n",
       "2                        0       1                   0                 19   \n",
       "3                        1       0                   0                 20   \n",
       "4                        1       0                   0                 45   \n",
       "\n",
       "   International  Curricular units 1st sem (credited)  \\\n",
       "0              0                                    0   \n",
       "1              0                                    0   \n",
       "2              0                                    0   \n",
       "3              0                                    0   \n",
       "4              0                                    0   \n",
       "\n",
       "   Curricular units 1st sem (enrolled)  \\\n",
       "0                                    0   \n",
       "1                                    6   \n",
       "2                                    6   \n",
       "3                                    6   \n",
       "4                                    6   \n",
       "\n",
       "   Curricular units 1st sem (evaluations)  \\\n",
       "0                                       0   \n",
       "1                                       6   \n",
       "2                                       0   \n",
       "3                                       8   \n",
       "4                                       9   \n",
       "\n",
       "   Curricular units 1st sem (approved)  Curricular units 1st sem (grade)  \\\n",
       "0                                    0                          0.000000   \n",
       "1                                    6                         14.000000   \n",
       "2                                    0                          0.000000   \n",
       "3                                    6                         13.428571   \n",
       "4                                    5                         12.333333   \n",
       "\n",
       "   Curricular units 1st sem (without evaluations)  \\\n",
       "0                                               0   \n",
       "1                                               0   \n",
       "2                                               0   \n",
       "3                                               0   \n",
       "4                                               0   \n",
       "\n",
       "   Curricular units 2nd sem (credited)  Curricular units 2nd sem (enrolled)  \\\n",
       "0                                    0                                    0   \n",
       "1                                    0                                    6   \n",
       "2                                    0                                    6   \n",
       "3                                    0                                    6   \n",
       "4                                    0                                    6   \n",
       "\n",
       "   Curricular units 2nd sem (evaluations)  \\\n",
       "0                                       0   \n",
       "1                                       6   \n",
       "2                                       0   \n",
       "3                                      10   \n",
       "4                                       6   \n",
       "\n",
       "   Curricular units 2nd sem (approved)  Curricular units 2nd sem (grade)  \\\n",
       "0                                    0                          0.000000   \n",
       "1                                    6                         13.666667   \n",
       "2                                    0                          0.000000   \n",
       "3                                    5                         12.400000   \n",
       "4                                    6                         13.000000   \n",
       "\n",
       "   Curricular units 2nd sem (without evaluations)  Unemployment rate  \\\n",
       "0                                               0               10.8   \n",
       "1                                               0               13.9   \n",
       "2                                               0               10.8   \n",
       "3                                               0                9.4   \n",
       "4                                               0               13.9   \n",
       "\n",
       "   Inflation rate   GDP    Target  \n",
       "0             1.4  1.74   Dropout  \n",
       "1            -0.3  0.79  Graduate  \n",
       "2             1.4  1.74   Dropout  \n",
       "3            -0.8 -3.12  Graduate  \n",
       "4            -0.3  0.79  Graduate  "
      ]
     },
     "execution_count": 155,
     "metadata": {},
     "output_type": "execute_result"
    }
   ],
   "source": [
    "# Read dataset from csv file\n",
    "data =  pd.read_csv(r\"D:\\Projects\\EduDrop\\EduDrop-Student-DropOut-Analysis\\Algorithms & Analysis\\assets\\dataset.csv\")\n",
    "\n",
    "# Correcting typographical error for nationality\n",
    "data.rename(columns = {'Nacionality':'Nationality'}, inplace = True)\n",
    "data.head()"
   ]
  },
  {
   "cell_type": "code",
   "execution_count": 156,
   "metadata": {},
   "outputs": [],
   "source": [
    "# Create a copy for exploratory data analysis\n",
    "data_viz = data.copy()\n",
    "\n",
    "# Prepare report content\n",
    "report_content = \"\"\"\n",
    "<!DOCTYPE html>\n",
    "<html lang=\"en\">\n",
    "<head>\n",
    "    <meta charset=\"UTF-8\">\n",
    "    <meta name=\"viewport\" content=\"width=device-width, initial-scale=1.0\">\n",
    "    <title>Student Dropout Analysis Report</title>\n",
    "    <style>\n",
    "        body {{\n",
    "            font-family: Arial, sans-serif;\n",
    "            line-height: 1.6;\n",
    "            margin: 0;\n",
    "            padding: 20px;\n",
    "            color: #333;\n",
    "        }}\n",
    "        h1, h2, h3 {{\n",
    "            color: #2c3e50;\n",
    "        }}\n",
    "        .container {{\n",
    "            max-width: 1200px;\n",
    "            margin: 0 auto;\n",
    "        }}\n",
    "        .section {{\n",
    "            margin-bottom: 40px;\n",
    "            padding: 20px;\n",
    "            background-color: #f9f9f9;\n",
    "            border-radius: 5px;\n",
    "        }}\n",
    "        .figure {{\n",
    "            margin: 20px 0;\n",
    "            text-align: center;\n",
    "        }}\n",
    "        .figure img {{\n",
    "            max-width: 100%;\n",
    "            height: auto;\n",
    "            border: 1px solid #ddd;\n",
    "        }}\n",
    "        .figure-caption {{\n",
    "            margin-top: 10px;\n",
    "            font-style: italic;\n",
    "            color: #666;\n",
    "        }}\n",
    "        table {{\n",
    "            width: 100%;\n",
    "            border-collapse: collapse;\n",
    "            margin: 20px 0;\n",
    "        }}\n",
    "        th, td {{\n",
    "            padding: 10px;\n",
    "            border: 1px solid #ddd;\n",
    "            text-align: left;\n",
    "        }}\n",
    "        th {{\n",
    "            background-color: #f2f2f2;\n",
    "        }}\n",
    "        .highlight {{\n",
    "            background-color: #f8f9fa;\n",
    "            padding: 15px;\n",
    "            border-left: 4px solid #2c3e50;\n",
    "            margin-bottom: 20px;\n",
    "        }}\n",
    "        .model-comparison {{\n",
    "            display: flex;\n",
    "            justify-content: space-between;\n",
    "            flex-wrap: wrap;\n",
    "        }}\n",
    "        .model-card {{\n",
    "            width: 48%;\n",
    "            margin-bottom: 20px;\n",
    "            padding: 15px;\n",
    "            background-color: #fff;\n",
    "            border: 1px solid #ddd;\n",
    "            border-radius: 5px;\n",
    "        }}\n",
    "    </style>\n",
    "</head>\n",
    "<body>\n",
    "    <div class=\"container\">\n",
    "        <h1>Student Dropout Analysis Report</h1>\n",
    "        <p>Generated on: {date}</p>\n",
    "        \n",
    "        <div class=\"section\">\n",
    "            <h2>Executive Summary</h2>\n",
    "            <p>This report presents a comprehensive analysis of student dropout patterns using machine learning models. \n",
    "            The analysis includes exploratory data analysis, feature engineering, and model comparison to identify the most \n",
    "            significant factors contributing to student dropout.</p>\n",
    "            \n",
    "            <div class=\"highlight\">\n",
    "                <h3>Key Findings:</h3>\n",
    "                <ul>\n",
    "                    <li>The best performing model was {best_model} with an accuracy of {best_accuracy}%</li>\n",
    "                    <li>Most important features predicting dropout include: {top_features}</li>\n",
    "                    <li>The dataset contains {dropout_percentage}% dropout rate overall</li>\n",
    "                </ul>\n",
    "            </div>\n",
    "        </div>\n",
    "\"\"\""
   ]
  },
  {
   "cell_type": "markdown",
   "metadata": {
    "id": "W1FRrAaXLPf2"
   },
   "source": [
    "## Descriptive analysis"
   ]
  },
  {
   "cell_type": "code",
   "execution_count": 157,
   "metadata": {
    "colab": {
     "base_uri": "https://localhost:8080/"
    },
    "id": "xtBjgJAKKDCl",
    "outputId": "d8ed959d-f726-46c7-d62d-7df68b49a26c"
   },
   "outputs": [
    {
     "data": {
      "text/plain": [
       "(4424, 35)"
      ]
     },
     "execution_count": 157,
     "metadata": {},
     "output_type": "execute_result"
    }
   ],
   "source": [
    "# shape of data\n",
    "data.shape"
   ]
  },
  {
   "cell_type": "markdown",
   "metadata": {
    "id": "cqer3Ak9LXTC"
   },
   "source": [
    "We have 4,424 observations (rows) and 35 features (Columns)"
   ]
  },
  {
   "cell_type": "code",
   "execution_count": 158,
   "metadata": {
    "colab": {
     "base_uri": "https://localhost:8080/"
    },
    "id": "gNNi-JoN2kTb",
    "outputId": "65228f02-c6ca-4126-9eef-1d675f3df22e"
   },
   "outputs": [
    {
     "name": "stdout",
     "output_type": "stream",
     "text": [
      "<class 'pandas.core.frame.DataFrame'>\n",
      "RangeIndex: 4424 entries, 0 to 4423\n",
      "Data columns (total 35 columns):\n",
      " #   Column                                          Non-Null Count  Dtype  \n",
      "---  ------                                          --------------  -----  \n",
      " 0   Marital status                                  4424 non-null   int64  \n",
      " 1   Application mode                                4424 non-null   int64  \n",
      " 2   Application order                               4424 non-null   int64  \n",
      " 3   Course                                          4424 non-null   int64  \n",
      " 4   Daytime/evening attendance                      4424 non-null   int64  \n",
      " 5   Previous qualification                          4424 non-null   int64  \n",
      " 6   Nationality                                     4424 non-null   int64  \n",
      " 7   Mother's qualification                          4424 non-null   int64  \n",
      " 8   Father's qualification                          4424 non-null   int64  \n",
      " 9   Mother's occupation                             4424 non-null   int64  \n",
      " 10  Father's occupation                             4424 non-null   int64  \n",
      " 11  Displaced                                       4424 non-null   int64  \n",
      " 12  Educational special needs                       4424 non-null   int64  \n",
      " 13  Debtor                                          4424 non-null   int64  \n",
      " 14  Tuition fees up to date                         4424 non-null   int64  \n",
      " 15  Gender                                          4424 non-null   int64  \n",
      " 16  Scholarship holder                              4424 non-null   int64  \n",
      " 17  Age at enrollment                               4424 non-null   int64  \n",
      " 18  International                                   4424 non-null   int64  \n",
      " 19  Curricular units 1st sem (credited)             4424 non-null   int64  \n",
      " 20  Curricular units 1st sem (enrolled)             4424 non-null   int64  \n",
      " 21  Curricular units 1st sem (evaluations)          4424 non-null   int64  \n",
      " 22  Curricular units 1st sem (approved)             4424 non-null   int64  \n",
      " 23  Curricular units 1st sem (grade)                4424 non-null   float64\n",
      " 24  Curricular units 1st sem (without evaluations)  4424 non-null   int64  \n",
      " 25  Curricular units 2nd sem (credited)             4424 non-null   int64  \n",
      " 26  Curricular units 2nd sem (enrolled)             4424 non-null   int64  \n",
      " 27  Curricular units 2nd sem (evaluations)          4424 non-null   int64  \n",
      " 28  Curricular units 2nd sem (approved)             4424 non-null   int64  \n",
      " 29  Curricular units 2nd sem (grade)                4424 non-null   float64\n",
      " 30  Curricular units 2nd sem (without evaluations)  4424 non-null   int64  \n",
      " 31  Unemployment rate                               4424 non-null   float64\n",
      " 32  Inflation rate                                  4424 non-null   float64\n",
      " 33  GDP                                             4424 non-null   float64\n",
      " 34  Target                                          4424 non-null   object \n",
      "dtypes: float64(5), int64(29), object(1)\n",
      "memory usage: 1.2+ MB\n"
     ]
    }
   ],
   "source": [
    "data.info()"
   ]
  },
  {
   "cell_type": "markdown",
   "metadata": {
    "id": "NNYK2tcG4GNH"
   },
   "source": [
    "The results shows that all columns are numerical except the target column"
   ]
  },
  {
   "cell_type": "code",
   "execution_count": 159,
   "metadata": {
    "colab": {
     "base_uri": "https://localhost:8080/",
     "height": 466
    },
    "id": "rqcv-4CCAIdD",
    "outputId": "7c986712-b73e-468f-ee80-25d86024ac68"
   },
   "outputs": [],
   "source": [
    "# descriptive analysis\n",
    "pd.set_option('display.max_columns', None)"
   ]
  },
  {
   "cell_type": "code",
   "execution_count": 160,
   "metadata": {
    "colab": {
     "base_uri": "https://localhost:8080/"
    },
    "id": "KUQ4DICmAIdP",
    "outputId": "a4721576-0650-45e3-8324-da131e3fa200"
   },
   "outputs": [
    {
     "data": {
      "text/plain": [
       "np.int64(0)"
      ]
     },
     "execution_count": 160,
     "metadata": {},
     "output_type": "execute_result"
    }
   ],
   "source": [
    "#Checking for null values\n",
    "data.isnull().any().sum()"
   ]
  },
  {
   "cell_type": "markdown",
   "metadata": {
    "id": "jM7NVEXF81EV"
   },
   "source": [
    "No null values present in the data set"
   ]
  },
  {
   "cell_type": "markdown",
   "metadata": {
    "id": "h0j5NzfTLHHz"
   },
   "source": [
    "#Exploratory Data Analysis"
   ]
  },
  {
   "cell_type": "markdown",
   "metadata": {
    "id": "JptzEOhTAIdJ"
   },
   "source": [
    "The majority of categorical variables in the downloaded dataset have already been converted to numerical format. However, for the purpose of exploratory data analysis (EDA), we will revert certain columns to their original categorical form."
   ]
  },
  {
   "cell_type": "code",
   "execution_count": 161,
   "metadata": {
    "id": "Dok2c_qeFfyB"
   },
   "outputs": [],
   "source": [
    "# Create a copy for exploratory data analysis\n",
    "data_viz = data.copy()"
   ]
  },
  {
   "cell_type": "markdown",
   "metadata": {
    "id": "8f6DAxilZjxj"
   },
   "source": [
    "## Target Feature\n",
    "First we explore the values in the target column"
   ]
  },
  {
   "cell_type": "code",
   "execution_count": 162,
   "metadata": {
    "colab": {
     "base_uri": "https://localhost:8080/"
    },
    "id": "JfgaKlTAAIdG",
    "outputId": "1b300ac2-0305-49f1-86be-f0d9a0c0be1d"
   },
   "outputs": [
    {
     "data": {
      "text/plain": [
       "array(['Dropout', 'Graduate', 'Enrolled'], dtype=object)"
      ]
     },
     "execution_count": 162,
     "metadata": {},
     "output_type": "execute_result"
    }
   ],
   "source": [
    "data['Target'].unique()"
   ]
  },
  {
   "cell_type": "markdown",
   "metadata": {
    "id": "8w4k5xiaKgd_"
   },
   "source": [
    "From the target column we can infer the following:\n",
    "* Dropout: The student dropped out\n",
    "* Graduate: The student graduated\n",
    "* Enrolled: The student is currently enrolled"
   ]
  },
  {
   "cell_type": "code",
   "execution_count": 163,
   "metadata": {
    "colab": {
     "base_uri": "https://localhost:8080/",
     "height": 421
    },
    "id": "HMql3u4WoVtX",
    "outputId": "3ade30c2-192a-465d-ab77-e7e770da0510"
   },
   "outputs": [],
   "source": [
    "# Distribution of Target feature\n",
    "fig = px.pie(values= data_viz['Target'].value_counts(),\n",
    "             names= data_viz['Target'].value_counts().index.to_list())\n",
    "\n",
    "fig.update_traces(textposition='inside', textinfo='percent+label',\n",
    "                  marker=dict(colors=['teal', 'goldenrod', 'slateblue']))\n",
    "\n",
    "fig.update_layout(showlegend = False, height=400, width=800,\n",
    "                  title='Distribution of Target')\n",
    "target_dist_img = fig_to_base64(fig, 'png')\n",
    "\n",
    "# Calculate dropout percentage\n",
    "dropout_counts = data_viz['Target'].value_counts()\n",
    "dropout_percentage = round((dropout_counts.get('Dropout', 0) / len(data_viz)) * 100, 1)\n",
    "\n",
    "# Add target distribution to report\n",
    "report_content += f\"\"\"\n",
    "        <div class=\"section\">\n",
    "            <h2>Target Distribution</h2>\n",
    "            <p>The dataset contains {len(data_viz)} student records with {dropout_percentage}% dropout rate.</p>\n",
    "            <div class=\"figure\">\n",
    "                <img src=\"{target_dist_img}\" alt=\"Target Distribution\">\n",
    "                <div class=\"figure-caption\">Distribution of student outcomes: Dropout, Enrolled, and Graduate</div>\n",
    "            </div>\n",
    "        </div>\n",
    "\"\"\""
   ]
  },
  {
   "cell_type": "markdown",
   "metadata": {
    "id": "lV-anaQKAIdV"
   },
   "source": [
    "**Observation**\n",
    "* The graph shows that majority of the students are Graduates **(49%)**\n",
    "* There are also more Dropouts **(32.1%)** than those currently Enrolled **(17%)**"
   ]
  },
  {
   "cell_type": "markdown",
   "metadata": {
    "id": "F0oqXFWXBTnc"
   },
   "source": [
    "## Age distribution of students"
   ]
  },
  {
   "cell_type": "code",
   "execution_count": 164,
   "metadata": {
    "colab": {
     "base_uri": "https://localhost:8080/",
     "height": 521
    },
    "id": "PaDRiuDmAxYz",
    "outputId": "7e26a2e2-704d-4445-f761-80521213859c"
   },
   "outputs": [],
   "source": [
    "# Histogram for Age\n",
    "fig = px.histogram(data_viz, x='Age at enrollment', color = 'Target',\n",
    "                   opacity = 0.75, barmode = 'overlay',\n",
    "                    width = 800, height = 500, color_discrete_sequence=px.colors.qualitative.G10)\n",
    "fig.update_layout(title='Age distribution of students')\n",
    "age_dist_img = fig_to_base64(fig, 'png')\n",
    "\n",
    "# Add age distribution to report\n",
    "report_content += f\"\"\"\n",
    "        <div class=\"section\">\n",
    "            <h2>Demographic Analysis</h2>\n",
    "            <p>Understanding the demographic characteristics of students can provide insights into dropout patterns.</p>\n",
    "            \n",
    "            <h3>Age Distribution</h3>\n",
    "            <div class=\"figure\">\n",
    "                <img src=\"{age_dist_img}\" alt=\"Age Distribution\">\n",
    "                <div class=\"figure-caption\">Age distribution of students by outcome category</div>\n",
    "            </div>\n",
    "\"\"\""
   ]
  },
  {
   "cell_type": "markdown",
   "metadata": {
    "id": "jM4zhPhZCevN"
   },
   "source": [
    "**Observation**\n",
    "\n",
    "* Distribution shows that the data is right skewed indicating that majority of the students are in their late teen's to early 20's\n",
    "* It is also observed that there was an increase in dropout rate from students in their mid 20's to early 30's"
   ]
  },
  {
   "cell_type": "markdown",
   "metadata": {
    "id": "CSRG-sOxWCRy"
   },
   "source": [
    "For the next set of data visualizations, we would be dealing with pie charts mostly. To reduce repeatability of code, two functions are created;\n",
    "\n",
    "One to create dictionaries of all categories with respect to number of students enrolled, students who dropped out or graduated, the other would be to create pie charts based on the dictionaries created for visualization."
   ]
  },
  {
   "cell_type": "code",
   "execution_count": 165,
   "metadata": {
    "id": "OT_tA51-L3yx"
   },
   "outputs": [],
   "source": [
    "def get_dictionaries(category_list, dfcolumn_name, target_col, dictionary_list):\n",
    "  '''This function returns a list of dictionaries for value count of each target label per category'''\n",
    "  for each_category in category_list:\n",
    "    a_dictionary = dict(data_viz[data_viz[dfcolumn_name]== each_category][target_col].value_counts())\n",
    "    dictionary_list.append(a_dictionary)\n",
    "  return dictionary_list"
   ]
  },
  {
   "cell_type": "code",
   "execution_count": 166,
   "metadata": {
    "id": "P4eP42g0D7Rg"
   },
   "outputs": [],
   "source": [
    "def make_pie(dictionary_list, trace_list, colors_list, textposition = 'inside'):\n",
    "  '''This function returns a list of traces for pie charts'''\n",
    "  for dictionary in dictionary_list:\n",
    "    trace = go.Pie(values = list(dictionary.values()), labels = list(dictionary.keys()),\n",
    "           textposition = textposition, textinfo='percent+label',\n",
    "           marker=dict(colors=colors_list))\n",
    "    trace_list.append(trace)\n",
    "  return trace_list\n",
    "\n"
   ]
  },
  {
   "cell_type": "markdown",
   "metadata": {
    "id": "q6V2CtjGBcfh"
   },
   "source": [
    "## Gender distribution of students"
   ]
  },
  {
   "cell_type": "code",
   "execution_count": 167,
   "metadata": {
    "id": "WkuTNfiZKnlh"
   },
   "outputs": [],
   "source": [
    "# Change gender from numerical to catgorical\n",
    "data_viz['Gender'] = data_viz['Gender'].map({1:'Male', 0:'Female'})"
   ]
  },
  {
   "cell_type": "code",
   "execution_count": 168,
   "metadata": {
    "colab": {
     "base_uri": "https://localhost:8080/",
     "height": 421
    },
    "id": "ekTr2HJ3C1nz",
    "outputId": "13df3b77-58a6-42e4-c01e-89e3b3febbeb"
   },
   "outputs": [],
   "source": [
    "# Calculate percentage count for gender\n",
    "percent_count = round(data_viz['Gender'].value_counts(normalize=True) * 100, 1)\n",
    "\n",
    "fig = px.bar(percent_count,  orientation= 'h', text_auto=True)\n",
    "\n",
    "fig.update_traces(marker=dict(color=['red']))\n",
    "\n",
    "fig.update_layout(height=400, width=700,\n",
    "                  title='Gender Percentage Count of Students',\n",
    "                  showlegend = False,\n",
    "                  font=dict(size=14),\n",
    "                  xaxis_title = '%count',\n",
    "                  yaxis_title = 'Gender')\n",
    "gender_dist_img = fig_to_base64(fig, 'png')\n",
    "\n",
    "# Add gender distribution to report\n",
    "report_content += f\"\"\"\n",
    "            <h3>Gender Distribution</h3>\n",
    "            <div class=\"figure\">\n",
    "                <img src=\"{gender_dist_img}\" alt=\"Gender Distribution\">\n",
    "                <div class=\"figure-caption\">Gender distribution of students</div>\n",
    "            </div>\n",
    "\"\"\""
   ]
  },
  {
   "cell_type": "code",
   "execution_count": 169,
   "metadata": {
    "colab": {
     "base_uri": "https://localhost:8080/"
    },
    "id": "6iedtbFWQAF2",
    "outputId": "dfb8edb3-8a97-4429-f9ca-16711bd5524b"
   },
   "outputs": [
    {
     "data": {
      "text/plain": [
       "[{'Dropout': np.int64(701),\n",
       "  'Graduate': np.int64(548),\n",
       "  'Enrolled': np.int64(307)},\n",
       " {'Graduate': np.int64(1661),\n",
       "  'Dropout': np.int64(720),\n",
       "  'Enrolled': np.int64(487)}]"
      ]
     },
     "execution_count": 169,
     "metadata": {},
     "output_type": "execute_result"
    }
   ],
   "source": [
    "# Getting dictionaries for genders\n",
    "genders = data_viz['Gender'].unique()\n",
    "genders_dictionaries = get_dictionaries(genders, 'Gender', 'Target', [])\n",
    "genders_dictionaries"
   ]
  },
  {
   "cell_type": "code",
   "execution_count": 170,
   "metadata": {
    "colab": {
     "base_uri": "https://localhost:8080/",
     "height": 521
    },
    "id": "GOZIdUCW_YNv",
    "outputId": "e1cd7b4c-dd96-4a19-b46b-a701f214e151"
   },
   "outputs": [],
   "source": [
    "# Creating subplots for Gender distribution of students\n",
    "fig = make_subplots(rows=1, cols=2, subplot_titles=[ 'Male Students', 'Female Students'],\n",
    "                    specs=[[{'type': 'pie'}, {'type': 'pie'}]])\n",
    "\n",
    "# Creating empty trace list\n",
    "traces = []\n",
    "make_pie(genders_dictionaries, traces, ['teal', 'goldenrod', 'slateblue'])\n",
    "\n",
    "# Adding pie charts\n",
    "fig.add_trace(traces[0], row=1, col=1)\n",
    "fig.add_trace(traces[1], row=1, col=2)\n",
    "\n",
    "# Updating layout\n",
    "fig.update_layout(height=500, width=800,\n",
    "                  title='Gender distribution of students',\n",
    "                  showlegend = False,\n",
    "                  font=dict(size=14))\n",
    "\n",
    "gender_target_img = fig_to_base64(fig, 'png')\n",
    "\n",
    "# Add gender vs target to report\n",
    "report_content += f\"\"\"\n",
    "            <h3>Gender vs Target</h3>\n",
    "            <div class=\"figure\">\n",
    "                <img src=\"{gender_target_img}\" alt=\"Gender vs Target\">\n",
    "                <div class=\"figure-caption\">Distribution of outcomes by gender</div>\n",
    "            </div>\n",
    "        </div>\n",
    "\"\"\""
   ]
  },
  {
   "cell_type": "markdown",
   "metadata": {
    "id": "go2nYQJhYCvN"
   },
   "source": [
    "**Observation**\n",
    "* There was a significant number of female students (64.8%) compared to the males (35.2%).\n",
    "* Also it is observed that there was a higher rate of dropout students that were male (45.1%), compared to the females (25.1%)."
   ]
  },
  {
   "cell_type": "markdown",
   "metadata": {
    "id": "pzU4YLvw-3Dg"
   },
   "source": [
    "## Students courses"
   ]
  },
  {
   "cell_type": "code",
   "execution_count": 171,
   "metadata": {
    "id": "ANccRsf3Cm3O"
   },
   "outputs": [],
   "source": [
    "# Converting the courses back to categorical\n",
    "data_viz['Course'] = data_viz['Course'].map({1: 'Biofuel Production Technologies',\n",
    " 2: 'Animation and Multimedia Design', 3: 'Social Service (evening attendance)',\n",
    " 4: 'Agronomy', 5: 'Communication Design', 6: 'Veterinary Nursing',\n",
    " 7: 'Informatics Engineering', 8: 'Equiniculture', 9: 'Management',\n",
    " 10: 'Social Service', 11: 'Tourism', 12: 'Nursing', 13: 'Oral Hygiene',\n",
    " 14: 'Advertising and Marketing Management', 15: 'Journalism and Communication',\n",
    " 16: 'Basic Education', 17: 'Management (evening attendance)'})"
   ]
  },
  {
   "cell_type": "code",
   "execution_count": 172,
   "metadata": {
    "colab": {
     "base_uri": "https://localhost:8080/",
     "height": 521
    },
    "id": "BD0rawKF22TN",
    "outputId": "ee38cc1d-89ce-41c4-8dbe-8178f70d4f16"
   },
   "outputs": [],
   "source": [
    "# Bar chart for courses\n",
    "percent_count = data_viz['Course'].value_counts()\n",
    "fig = px.bar(percent_count,  orientation= 'h', text_auto=True)\n",
    "\n",
    "\n",
    "fig.update_traces(marker=dict(color=['red','orangered', 'darkorange', 'orange', 'yellow']))\n",
    "fig.update_layout(height=500, width=1000,\n",
    "                  title='Courses enrolled by students',\n",
    "                  showlegend = False,\n",
    "                  font=dict(size=14),\n",
    "                  xaxis_title = 'Total',\n",
    "                  yaxis_title = 'Courses')\n",
    "course_dist_img = fig_to_base64(fig, 'png')\n",
    "\n",
    "# Add course distribution to report\n",
    "report_content += f\"\"\"\n",
    "        <div class=\"section\">\n",
    "            <h2>Academic Factors</h2>\n",
    "            <p>Academic factors such as course selection and performance metrics can significantly impact dropout rates.</p>\n",
    "            \n",
    "            <h3>Course Distribution</h3>\n",
    "            <div class=\"figure\">\n",
    "                <img src=\"{course_dist_img}\" alt=\"Course Distribution\">\n",
    "                <div class=\"figure-caption\">Distribution of students across different courses</div>\n",
    "            </div>\n",
    "\"\"\""
   ]
  },
  {
   "cell_type": "code",
   "execution_count": 173,
   "metadata": {
    "colab": {
     "base_uri": "https://localhost:8080/",
     "height": 1000
    },
    "id": "lAWl_N-qGJYZ",
    "outputId": "0a6f668a-d8d4-4f02-f969-61048d806750"
   },
   "outputs": [],
   "source": [
    "# Histogram plot for students courses based on traget status\n",
    "fig = px.histogram(data_viz, y='Course', color='Target',\n",
    "                   width=1200, height=1600,\n",
    "                   text_auto='.1f', color_discrete_sequence=px.colors.qualitative.Dark2,\n",
    "                   barmode='group')  # Removed barnorm\n",
    "\n",
    "fig.update_layout(title='Courses', xaxis_title='Count')\n",
    "\n",
    "course_target_img = fig_to_base64(fig, 'png')\n",
    "\n",
    "# Add course vs target to report\n",
    "report_content += f\"\"\"\n",
    "            <h3>Course vs Target</h3>\n",
    "            <div class=\"figure\">\n",
    "                <img src=\"{course_target_img}\" alt=\"Course vs Target\">\n",
    "                <div class=\"figure-caption\">Dropout rates by course</div>\n",
    "            </div>\n",
    "        </div>\n",
    "\"\"\"\n"
   ]
  },
  {
   "cell_type": "markdown",
   "metadata": {
    "id": "PyLT6F6i1kFi"
   },
   "source": [
    "**Observation**\n",
    "\n",
    "Majority of the students are enrolled in Nursing and it also had the lowest droput rate of about **15.4%**.\n",
    "\n",
    "The course that had the highest dropout rate was **Biofuel Production Technologies (66.7%)** which is also had the least number of enrolled students followed by **Equiniculture (55.3%)**.\n"
   ]
  },
  {
   "cell_type": "markdown",
   "metadata": {
    "id": "MouBuYXm876G"
   },
   "source": [
    "## Martial status\n"
   ]
  },
  {
   "cell_type": "code",
   "execution_count": 174,
   "metadata": {
    "id": "3blTUKuI9lmh"
   },
   "outputs": [],
   "source": [
    "# Converting back to categorical\n",
    "data_viz['Marital status'] = data_viz['Marital status'].map({1:'Single', 2: 'Married',\n",
    "                                                             3: 'Widower', 4: 'Divorced',\n",
    "                                                             5: 'Facto union', 6: 'Legally Separated'})"
   ]
  },
  {
   "cell_type": "code",
   "execution_count": 175,
   "metadata": {
    "colab": {
     "base_uri": "https://localhost:8080/",
     "height": 521
    },
    "id": "OjszWt8_q7OK",
    "outputId": "307ec1f1-c781-4092-850a-a1c0dd28fdd4"
   },
   "outputs": [],
   "source": [
    "# Bar chart for Marital status\n",
    "count = data_viz['Marital status'].value_counts()\n",
    "fig = px.bar(count,  orientation= 'h', text_auto=True)\n",
    "\n",
    "fig.update_traces(marker=dict(color=['red', 'orange']))\n",
    "fig.update_layout(height=500, width=800,\n",
    "                  title='Total Marital status of Students',\n",
    "                  showlegend = False,\n",
    "                  font=dict(size=14),\n",
    "                  xaxis_title = 'Total',\n",
    "                  yaxis_title = 'Marital status')\n",
    "\n",
    "marital_students = fig_to_base64(fig , 'png')\n",
    "\n",
    "# Add course vs target to report\n",
    "report_content += f\"\"\"\n",
    "            <h3>Total Marital Status of Students</h3>\n",
    "            <div class=\"figure\">\n",
    "                <img src=\"{marital_students}\" alt=\"Marital Status\">\n",
    "                <div class=\"figure-caption\">Marital Status</div>\n",
    "            </div>\n",
    "        </div>\n",
    "\"\"\""
   ]
  },
  {
   "cell_type": "code",
   "execution_count": 176,
   "metadata": {
    "colab": {
     "base_uri": "https://localhost:8080/",
     "height": 521
    },
    "id": "zQXgFy6SgEst",
    "outputId": "3ba027ff-cccb-4e43-e962-5bc123d6fade"
   },
   "outputs": [],
   "source": [
    "fig = px.histogram(data_viz, x='Marital status', color='Target',\n",
    "                   width=1200, height=500,\n",
    "                   text_auto='.1f', color_discrete_sequence=px.colors.qualitative.Dark2,\n",
    "                   barmode='group')  # Removed barnorm\n",
    "\n",
    "fig.update_layout(title='Marital status', yaxis_title='Count')\n",
    "marital_target_img = fig_to_base64(fig, 'png')\n",
    "\n",
    "# Add course vs target to report\n",
    "report_content += f\"\"\"\n",
    "            <h3>Marital Status vs Target</h3>\n",
    "            <div class=\"figure\">\n",
    "                <img src=\"{marital_target_img}\" alt=\"Marital Status vs Target\">\n",
    "                <div class=\"figure-caption\">Dropout rates by Marital Status</div>\n",
    "            </div>\n",
    "        </div>\n",
    "\"\"\""
   ]
  },
  {
   "cell_type": "markdown",
   "metadata": {
    "id": "n5JNPK3fCIGJ"
   },
   "source": [
    "**Observation**\n",
    "\n",
    "* Vast majority of the students are single, however **30.2% of single students** droppout.\n",
    "* Another thing to note is that **legally seperated students (66.7)** had the highest percentage of dropouts followed by **Married students (47.2%)**."
   ]
  },
  {
   "cell_type": "markdown",
   "metadata": {
    "id": "MAVKZKnKeTQR"
   },
   "source": [
    "For function below is created to simplify the process and reduce repeatability."
   ]
  },
  {
   "cell_type": "code",
   "execution_count": 177,
   "metadata": {
    "id": "x_v5rJCSdJJb"
   },
   "outputs": [],
   "source": [
    "def sub_plots(chart_to_plot, row, col):\n",
    "  '''This function generates the list of subplots'''\n",
    "  cols = chart_to_plot * col\n",
    "  rows = [cols] * row\n",
    "  return rows\n"
   ]
  },
  {
   "cell_type": "markdown",
   "metadata": {
    "id": "yDl11V8RAIdS"
   },
   "source": [
    "## Student's Financial Status\n",
    "\n",
    "Next, we will analyze the financial status of students to understand how scholarship status, debt status, and tuition payment status correlate with dropout rates.\n",
    "\n"
   ]
  },
  {
   "cell_type": "code",
   "execution_count": 178,
   "metadata": {
    "id": "0KWZTJCzAIdS"
   },
   "outputs": [],
   "source": [
    "# Converting columns back to categorical\n",
    "to_convert = ['Debtor', 'Tuition fees up to date', 'Scholarship holder']\n",
    "for i in to_convert:\n",
    "    data_viz[i] = data_viz[i].map({1:'Yes', 0: 'No'})"
   ]
  },
  {
   "cell_type": "code",
   "execution_count": 179,
   "metadata": {
    "colab": {
     "base_uri": "https://localhost:8080/"
    },
    "id": "DtNJJYG819ig",
    "outputId": "3ed99108-2190-4566-e9c6-2b3f8b26f22b"
   },
   "outputs": [
    {
     "data": {
      "text/plain": [
       "[{'Graduate': np.int64(2108),\n",
       "  'Dropout': np.int64(1109),\n",
       "  'Enrolled': np.int64(704)},\n",
       " {'Dropout': np.int64(312),\n",
       "  'Graduate': np.int64(101),\n",
       "  'Enrolled': np.int64(90)}]"
      ]
     },
     "execution_count": 179,
     "metadata": {},
     "output_type": "execute_result"
    }
   ],
   "source": [
    "# Getting dictionaries for students in debt/ not in debt\n",
    "debt = data_viz['Debtor'].unique()\n",
    "debt_dictionaries = get_dictionaries(debt, 'Debtor', 'Target', [])\n",
    "debt_dictionaries"
   ]
  },
  {
   "cell_type": "code",
   "execution_count": 180,
   "metadata": {
    "colab": {
     "base_uri": "https://localhost:8080/"
    },
    "id": "xZFwg8Vu3S_6",
    "outputId": "c1026857-8c28-4cfc-839f-9d15f1a4122c"
   },
   "outputs": [
    {
     "data": {
      "text/plain": [
       "[{'Graduate': np.int64(2180),\n",
       "  'Dropout': np.int64(964),\n",
       "  'Enrolled': np.int64(752)},\n",
       " {'Dropout': np.int64(457),\n",
       "  'Enrolled': np.int64(42),\n",
       "  'Graduate': np.int64(29)}]"
      ]
     },
     "execution_count": 180,
     "metadata": {},
     "output_type": "execute_result"
    }
   ],
   "source": [
    "# Getting dictionaries for students with tuition fees paid/ not paid\n",
    "tuition = data_viz['Tuition fees up to date'].unique()\n",
    "tuition_dictionaries = get_dictionaries(tuition, 'Tuition fees up to date', 'Target', [])\n",
    "tuition_dictionaries"
   ]
  },
  {
   "cell_type": "code",
   "execution_count": 181,
   "metadata": {
    "colab": {
     "base_uri": "https://localhost:8080/"
    },
    "id": "PFhBaYgA39t9",
    "outputId": "992a2a38-1c4d-4cf4-f880-da446d066f07"
   },
   "outputs": [
    {
     "data": {
      "text/plain": [
       "[{'Graduate': np.int64(1374),\n",
       "  'Dropout': np.int64(1287),\n",
       "  'Enrolled': np.int64(664)},\n",
       " {'Graduate': np.int64(835),\n",
       "  'Dropout': np.int64(134),\n",
       "  'Enrolled': np.int64(130)}]"
      ]
     },
     "execution_count": 181,
     "metadata": {},
     "output_type": "execute_result"
    }
   ],
   "source": [
    "# Getting dictionaries for students with scholarship/ no scholarship\n",
    "scholarship = data_viz['Scholarship holder'].unique()\n",
    "scholarship_dictionaries = get_dictionaries(scholarship, 'Scholarship holder', 'Target', [])\n",
    "scholarship_dictionaries"
   ]
  },
  {
   "cell_type": "code",
   "execution_count": 182,
   "metadata": {
    "colab": {
     "base_uri": "https://localhost:8080/",
     "height": 1000
    },
    "id": "KeaJ5VkCiIrG",
    "outputId": "c8e90c56-0450-45d6-dc4c-a42b26fd37c8"
   },
   "outputs": [],
   "source": [
    "# Creatign subplots for pie charts\n",
    "fig = make_subplots(rows=3, cols=2,\n",
    "                    subplot_titles = ['No Debt', 'Debt', 'Tuition Paid', 'Tuition not paid', 'No Scholarship', 'Scholarship'],\n",
    "                    specs= sub_plots([{'type':'pie'}], 3,2), vertical_spacing = 0.07)\n",
    "\n",
    "# Initialize an empty list for traces\n",
    "traces = []\n",
    "\n",
    "# Generate traces\n",
    "make_pie(debt_dictionaries, traces, ['teal', 'goldenrod', 'slateblue'])\n",
    "make_pie(tuition_dictionaries, traces, ['teal', 'goldenrod', 'slateblue'])\n",
    "make_pie(scholarship_dictionaries, traces, ['teal', 'goldenrod', 'slateblue'])\n",
    "\n",
    "# Adding pie charts to fig\n",
    "fig.add_trace(traces[0], row=1, col=1)\n",
    "fig.add_trace(traces[1], row=1, col=2)\n",
    "fig.add_trace(traces[2], row=2, col=1)\n",
    "fig.add_trace(traces[3], row=2, col=2)\n",
    "fig.add_trace(traces[4], row=3, col=1)\n",
    "fig.add_trace(traces[5], row=3, col=2)\n",
    "\n",
    "\n",
    "fig.update_layout(title=\"Students Financial status\", height=1000, width=1000, showlegend = False, title_pad=dict(t=100))\n",
    "financial_img = fig_to_base64(fig, 'png')\n",
    "\n",
    "# Add financial status to report\n",
    "report_content += f\"\"\"\n",
    "        <div class=\"section\">\n",
    "            <h2>Financial Factors</h2>\n",
    "            <p>Financial factors such as debt, tuition payment status, and scholarships can significantly impact a student's likelihood to drop out.</p>\n",
    "            \n",
    "            <div class=\"figure\">\n",
    "                <img src=\"{financial_img}\" alt=\"Financial Status Analysis\">\n",
    "                <div class=\"figure-caption\">Dropout rates by financial factors: debt status, tuition payment status, and scholarship status</div>\n",
    "            </div>\n",
    "        </div>\n",
    "\"\"\""
   ]
  },
  {
   "cell_type": "markdown",
   "metadata": {
    "id": "Ots5fQ7U2Owr"
   },
   "source": [
    "**Observation**\n",
    "\n",
    "Unsurprisingly, students who were in **debt** and had not completed payment for **tuition** had a higher dropout rate of **62% and 86.6%** respectively.\n",
    "\n",
    "Similarly, students who were granted **scholarships** had a low dropout rate of **12.2%** compared to those who were not given **(38.7%)**."
   ]
  },
  {
   "cell_type": "markdown",
   "metadata": {
    "id": "liezly3LoQtE"
   },
   "source": [
    "Based on our EDA, we have a good understanding of how the data is distributed by gender and age, as well as how certain features like courses enrolled and financial status correlate with the dropout rate. In the next phase, we will build and train a classification model to see if our findings are consistent with the model's results."
   ]
  },
  {
   "cell_type": "markdown",
   "metadata": {
    "id": "HQ5RFWyXIZRg"
   },
   "source": [
    "## Data preparation"
   ]
  },
  {
   "cell_type": "markdown",
   "metadata": {
    "id": "CnG79OGKMBqY"
   },
   "source": [
    "### Features selection\n",
    "\n",
    "The easiest way to view how independent features are correlated is through correlation analysis.\n",
    "\n",
    "This will help in feature selection and determine which independent variables can be dropped or combined to avoid Multicollinearity\n",
    "\n",
    "We can visualize this using heatmaps"
   ]
  },
  {
   "cell_type": "code",
   "execution_count": 183,
   "metadata": {
    "colab": {
     "base_uri": "https://localhost:8080/",
     "height": 817
    },
    "id": "gEzPbPeSLk_v",
    "outputId": "356b800e-f886-49c1-96d4-ad4c61661842"
   },
   "outputs": [],
   "source": [
    "# Heat map showing correlation of features\n",
    "fig = px.imshow(data.drop('Target', axis = 1).corr().round(2), text_auto=True, aspect=\"auto\", color_continuous_scale='RdBu_r')\n",
    "fig.update_layout(title = 'Correlation Analysis for independent features', height=800, width=1500)\n",
    "\n",
    "correlation_analysis = fig_to_base64(fig,'png')\n",
    "\n",
    "# Add course vs target to report\n",
    "report_content += f\"\"\"\n",
    "            <h3>Correlation Analysis for independent features</h3>\n",
    "            <div class=\"figure\">\n",
    "                <img src=\"{correlation_analysis}\" alt=\"Correlation Analysis\">\n",
    "                <div class=\"figure-caption\">Correlation Analysis</div>\n",
    "            </div>\n",
    "        </div>\n",
    "\"\"\""
   ]
  },
  {
   "cell_type": "markdown",
   "metadata": {
    "id": "jk658hM-BIYY"
   },
   "source": [
    "**Observation**:\n",
    "\n",
    "From the results we can see some features have strong correlation with each other:\n",
    "* Nationality and International\n",
    "* Mother's qualification and Father's qualification\n",
    "* Mother's occupation and Father's occupation\n",
    "* Curricular Units 1st sem and Curricular Units 2nd sem\n",
    "\n",
    "We can decide to pick or drop either `Nationality or International`, `Mother's qualification or Father's qualification` and `Mother's occupation or Father's occupation`.\n",
    "\n",
    "As for `Curricular Units 1st sem` and `Curricular Units 2nd sem` we need to retain this information in our data set without losing valuable information or risk the model overfitting.\n",
    "\n",
    "To solve this, Principal Component Analysis is done to reduce dimensionality.\n"
   ]
  },
  {
   "cell_type": "code",
   "execution_count": 184,
   "metadata": {
    "id": "MQ9jnQX3aH-C"
   },
   "outputs": [],
   "source": [
    "# Extract columns for PCA\n",
    "data_forPCA = data[['Curricular units 1st sem (credited)',\n",
    "          'Curricular units 1st sem (enrolled)',\n",
    "          'Curricular units 1st sem (evaluations)',\n",
    "          'Curricular units 1st sem (without evaluations)',\n",
    "          'Curricular units 1st sem (approved)',\n",
    "          'Curricular units 1st sem (grade)',\n",
    "          'Curricular units 2nd sem (credited)',\n",
    "          'Curricular units 2nd sem (enrolled)',\n",
    "          'Curricular units 2nd sem (evaluations)',\n",
    "          'Curricular units 2nd sem (without evaluations)',\n",
    "          'Curricular units 2nd sem (approved)',\n",
    "          'Curricular units 2nd sem (grade)']]\n",
    "\n",
    "\n",
    "# PCA with one component\n",
    "pca = PCA(n_components=1)\n",
    "\n",
    "# Fit PCA to data and transform it\n",
    "pca_result = pca.fit_transform(data_forPCA)\n",
    "\n",
    "# Create a new DataFrame with the reduced feature\n",
    "df_pca = pd.DataFrame(data=pca_result, columns=['PCA Feature']).squeeze()\n",
    "data['Curricular 1st and 2nd sem PCA'] = df_pca"
   ]
  },
  {
   "cell_type": "markdown",
   "metadata": {
    "id": "YQ9VsLCjQm7m"
   },
   "source": [
    "Next, we drop the following features due to high correlation:\n",
    "* Nationality\n",
    "* Mother's occupation\n",
    "* Father's Qualification\n",
    "* Curricular units 1st sem (enrolled)\n",
    "* Curricular units 1st sem (credited)\n",
    "* Curricular units 1st sem (evaluations)\n",
    "* Curricular units 1st sem (approved)\n",
    "* Curricular units 1st sem (grade)\n",
    "* Curricular units 1st sem (without evaluations)\n",
    "* Curricular units 2nd sem (credited)\n",
    "* Curricular units 2nd sem (enrolled)\n",
    "* Curricular units 2nd sem (evaluations)\n",
    "* Curricular units 2nd sem (approved)\n",
    "* Curricular units 2nd sem (without evaluations)\n",
    "* Curricular units 2nd sem (grade)\n"
   ]
  },
  {
   "cell_type": "code",
   "execution_count": 185,
   "metadata": {
    "id": "pq7LvWAyZWNt"
   },
   "outputs": [],
   "source": [
    "# Dropping features\n",
    "data.drop(['Nationality', 'Mother\\'s occupation', 'Father\\'s qualification',\n",
    "          'Curricular units 1st sem (credited)',\n",
    "          'Curricular units 1st sem (enrolled)',\n",
    "          'Curricular units 1st sem (evaluations)',\n",
    "          'Curricular units 1st sem (without evaluations)',\n",
    "          'Curricular units 1st sem (approved)',\n",
    "          'Curricular units 1st sem (grade)',\n",
    "          'Curricular units 2nd sem (credited)',\n",
    "          'Curricular units 2nd sem (enrolled)',\n",
    "          'Curricular units 2nd sem (evaluations)',\n",
    "          'Curricular units 2nd sem (without evaluations)',\n",
    "          'Curricular units 2nd sem (approved)',\n",
    "          'Curricular units 2nd sem (grade)', 'Inflation rate', 'GDP',\n",
    "           'Unemployment rate'], axis = 1, inplace = True)"
   ]
  },
  {
   "cell_type": "code",
   "execution_count": 186,
   "metadata": {
    "colab": {
     "base_uri": "https://localhost:8080/",
     "height": 817
    },
    "id": "9dEx8HffZTmq",
    "outputId": "ae2cd537-fdc2-45ec-af26-c05e33686954"
   },
   "outputs": [],
   "source": [
    "# Heat map showing correlation of features\n",
    "fig = px.imshow(data.drop('Target', axis = 1).corr().round(2), text_auto=True, aspect=\"auto\", color_continuous_scale='RdBu_r')\n",
    "fig.update_layout(title = 'Correlation Analysis for independent features', height=800, width=1500)\n",
    "\n",
    "correlation_analysis_selected = fig_to_base64(fig,'png')\n",
    "\n",
    "report_content += f\"\"\"\n",
    "            <h3>Correlation Analysis for selected independent features</h3>\n",
    "            <div class=\"figure\">\n",
    "                <img src=\"{correlation_analysis_selected}\" alt=\"Correlation Analysis\">\n",
    "                <div class=\"figure-caption\">Correlation Analysis of Selected Independent features</div>\n",
    "            </div>\n",
    "        </div>\n",
    "\"\"\""
   ]
  },
  {
   "cell_type": "markdown",
   "metadata": {
    "id": "XN7LeMBtS9b4"
   },
   "source": [
    "### Data Processing\n",
    " Before standardizing the data we need transform the target feature from categorical to numerical data."
   ]
  },
  {
   "cell_type": "code",
   "execution_count": 187,
   "metadata": {
    "colab": {
     "base_uri": "https://localhost:8080/",
     "height": 278
    },
    "id": "Hnm-1ffLAIdI",
    "outputId": "dc2c874d-cab9-416c-f19f-8d3c2cd414dc"
   },
   "outputs": [
    {
     "data": {
      "text/html": [
       "<div>\n",
       "<style scoped>\n",
       "    .dataframe tbody tr th:only-of-type {\n",
       "        vertical-align: middle;\n",
       "    }\n",
       "\n",
       "    .dataframe tbody tr th {\n",
       "        vertical-align: top;\n",
       "    }\n",
       "\n",
       "    .dataframe thead th {\n",
       "        text-align: right;\n",
       "    }\n",
       "</style>\n",
       "<table border=\"1\" class=\"dataframe\">\n",
       "  <thead>\n",
       "    <tr style=\"text-align: right;\">\n",
       "      <th></th>\n",
       "      <th>Marital status</th>\n",
       "      <th>Application mode</th>\n",
       "      <th>Application order</th>\n",
       "      <th>Course</th>\n",
       "      <th>Daytime/evening attendance</th>\n",
       "      <th>Previous qualification</th>\n",
       "      <th>Mother's qualification</th>\n",
       "      <th>Father's occupation</th>\n",
       "      <th>Displaced</th>\n",
       "      <th>Educational special needs</th>\n",
       "      <th>Debtor</th>\n",
       "      <th>Tuition fees up to date</th>\n",
       "      <th>Gender</th>\n",
       "      <th>Scholarship holder</th>\n",
       "      <th>Age at enrollment</th>\n",
       "      <th>International</th>\n",
       "      <th>Target</th>\n",
       "      <th>Curricular 1st and 2nd sem PCA</th>\n",
       "    </tr>\n",
       "  </thead>\n",
       "  <tbody>\n",
       "    <tr>\n",
       "      <th>0</th>\n",
       "      <td>1</td>\n",
       "      <td>8</td>\n",
       "      <td>5</td>\n",
       "      <td>2</td>\n",
       "      <td>1</td>\n",
       "      <td>1</td>\n",
       "      <td>13</td>\n",
       "      <td>10</td>\n",
       "      <td>1</td>\n",
       "      <td>0</td>\n",
       "      <td>0</td>\n",
       "      <td>1</td>\n",
       "      <td>1</td>\n",
       "      <td>0</td>\n",
       "      <td>20</td>\n",
       "      <td>0</td>\n",
       "      <td>True</td>\n",
       "      <td>-21.116404</td>\n",
       "    </tr>\n",
       "    <tr>\n",
       "      <th>1</th>\n",
       "      <td>1</td>\n",
       "      <td>6</td>\n",
       "      <td>1</td>\n",
       "      <td>11</td>\n",
       "      <td>1</td>\n",
       "      <td>1</td>\n",
       "      <td>1</td>\n",
       "      <td>4</td>\n",
       "      <td>1</td>\n",
       "      <td>0</td>\n",
       "      <td>0</td>\n",
       "      <td>0</td>\n",
       "      <td>1</td>\n",
       "      <td>0</td>\n",
       "      <td>19</td>\n",
       "      <td>0</td>\n",
       "      <td>False</td>\n",
       "      <td>2.514829</td>\n",
       "    </tr>\n",
       "    <tr>\n",
       "      <th>2</th>\n",
       "      <td>1</td>\n",
       "      <td>1</td>\n",
       "      <td>5</td>\n",
       "      <td>5</td>\n",
       "      <td>1</td>\n",
       "      <td>1</td>\n",
       "      <td>22</td>\n",
       "      <td>10</td>\n",
       "      <td>1</td>\n",
       "      <td>0</td>\n",
       "      <td>0</td>\n",
       "      <td>0</td>\n",
       "      <td>1</td>\n",
       "      <td>0</td>\n",
       "      <td>19</td>\n",
       "      <td>0</td>\n",
       "      <td>True</td>\n",
       "      <td>-18.826232</td>\n",
       "    </tr>\n",
       "    <tr>\n",
       "      <th>3</th>\n",
       "      <td>1</td>\n",
       "      <td>8</td>\n",
       "      <td>2</td>\n",
       "      <td>15</td>\n",
       "      <td>1</td>\n",
       "      <td>1</td>\n",
       "      <td>23</td>\n",
       "      <td>4</td>\n",
       "      <td>1</td>\n",
       "      <td>0</td>\n",
       "      <td>0</td>\n",
       "      <td>1</td>\n",
       "      <td>0</td>\n",
       "      <td>0</td>\n",
       "      <td>20</td>\n",
       "      <td>0</td>\n",
       "      <td>False</td>\n",
       "      <td>3.313201</td>\n",
       "    </tr>\n",
       "    <tr>\n",
       "      <th>4</th>\n",
       "      <td>2</td>\n",
       "      <td>12</td>\n",
       "      <td>1</td>\n",
       "      <td>3</td>\n",
       "      <td>0</td>\n",
       "      <td>1</td>\n",
       "      <td>22</td>\n",
       "      <td>10</td>\n",
       "      <td>0</td>\n",
       "      <td>0</td>\n",
       "      <td>0</td>\n",
       "      <td>1</td>\n",
       "      <td>0</td>\n",
       "      <td>0</td>\n",
       "      <td>45</td>\n",
       "      <td>0</td>\n",
       "      <td>False</td>\n",
       "      <td>2.076791</td>\n",
       "    </tr>\n",
       "  </tbody>\n",
       "</table>\n",
       "</div>"
      ],
      "text/plain": [
       "   Marital status  Application mode  Application order  Course  \\\n",
       "0               1                 8                  5       2   \n",
       "1               1                 6                  1      11   \n",
       "2               1                 1                  5       5   \n",
       "3               1                 8                  2      15   \n",
       "4               2                12                  1       3   \n",
       "\n",
       "   Daytime/evening attendance  Previous qualification  Mother's qualification  \\\n",
       "0                           1                       1                      13   \n",
       "1                           1                       1                       1   \n",
       "2                           1                       1                      22   \n",
       "3                           1                       1                      23   \n",
       "4                           0                       1                      22   \n",
       "\n",
       "   Father's occupation  Displaced  Educational special needs  Debtor  \\\n",
       "0                   10          1                          0       0   \n",
       "1                    4          1                          0       0   \n",
       "2                   10          1                          0       0   \n",
       "3                    4          1                          0       0   \n",
       "4                   10          0                          0       0   \n",
       "\n",
       "   Tuition fees up to date  Gender  Scholarship holder  Age at enrollment  \\\n",
       "0                        1       1                   0                 20   \n",
       "1                        0       1                   0                 19   \n",
       "2                        0       1                   0                 19   \n",
       "3                        1       0                   0                 20   \n",
       "4                        1       0                   0                 45   \n",
       "\n",
       "   International  Target  Curricular 1st and 2nd sem PCA  \n",
       "0              0    True                      -21.116404  \n",
       "1              0   False                        2.514829  \n",
       "2              0    True                      -18.826232  \n",
       "3              0   False                        3.313201  \n",
       "4              0   False                        2.076791  "
      ]
     },
     "execution_count": 187,
     "metadata": {},
     "output_type": "execute_result"
    }
   ],
   "source": [
    "# Get dummies for Target columns\n",
    "dummies = pd.get_dummies(data['Target'])\n",
    "\n",
    "#Drop all columns except that for Dropout\n",
    "dummies.drop(['Enrolled',\t'Graduate'], axis = 1, inplace= True)\n",
    "data['Target'] = dummies\n",
    "data.head()"
   ]
  },
  {
   "cell_type": "code",
   "execution_count": 188,
   "metadata": {
    "colab": {
     "base_uri": "https://localhost:8080/",
     "height": 278
    },
    "id": "VBLn1y34ZqPx",
    "outputId": "32741e77-eee7-4fdd-c1f3-aa73f33fb06c"
   },
   "outputs": [
    {
     "data": {
      "text/html": [
       "<div>\n",
       "<style scoped>\n",
       "    .dataframe tbody tr th:only-of-type {\n",
       "        vertical-align: middle;\n",
       "    }\n",
       "\n",
       "    .dataframe tbody tr th {\n",
       "        vertical-align: top;\n",
       "    }\n",
       "\n",
       "    .dataframe thead th {\n",
       "        text-align: right;\n",
       "    }\n",
       "</style>\n",
       "<table border=\"1\" class=\"dataframe\">\n",
       "  <thead>\n",
       "    <tr style=\"text-align: right;\">\n",
       "      <th></th>\n",
       "      <th>Marital status</th>\n",
       "      <th>Application mode</th>\n",
       "      <th>Application order</th>\n",
       "      <th>Course</th>\n",
       "      <th>Daytime/evening attendance</th>\n",
       "      <th>Previous qualification</th>\n",
       "      <th>Mother's qualification</th>\n",
       "      <th>Father's occupation</th>\n",
       "      <th>Displaced</th>\n",
       "      <th>Educational special needs</th>\n",
       "      <th>Debtor</th>\n",
       "      <th>Tuition fees up to date</th>\n",
       "      <th>Gender</th>\n",
       "      <th>Scholarship holder</th>\n",
       "      <th>Age at enrollment</th>\n",
       "      <th>International</th>\n",
       "      <th>Curricular 1st and 2nd sem PCA</th>\n",
       "    </tr>\n",
       "  </thead>\n",
       "  <tbody>\n",
       "    <tr>\n",
       "      <th>0</th>\n",
       "      <td>1</td>\n",
       "      <td>8</td>\n",
       "      <td>5</td>\n",
       "      <td>2</td>\n",
       "      <td>1</td>\n",
       "      <td>1</td>\n",
       "      <td>13</td>\n",
       "      <td>10</td>\n",
       "      <td>1</td>\n",
       "      <td>0</td>\n",
       "      <td>0</td>\n",
       "      <td>1</td>\n",
       "      <td>1</td>\n",
       "      <td>0</td>\n",
       "      <td>20</td>\n",
       "      <td>0</td>\n",
       "      <td>-21.116404</td>\n",
       "    </tr>\n",
       "    <tr>\n",
       "      <th>1</th>\n",
       "      <td>1</td>\n",
       "      <td>6</td>\n",
       "      <td>1</td>\n",
       "      <td>11</td>\n",
       "      <td>1</td>\n",
       "      <td>1</td>\n",
       "      <td>1</td>\n",
       "      <td>4</td>\n",
       "      <td>1</td>\n",
       "      <td>0</td>\n",
       "      <td>0</td>\n",
       "      <td>0</td>\n",
       "      <td>1</td>\n",
       "      <td>0</td>\n",
       "      <td>19</td>\n",
       "      <td>0</td>\n",
       "      <td>2.514829</td>\n",
       "    </tr>\n",
       "    <tr>\n",
       "      <th>2</th>\n",
       "      <td>1</td>\n",
       "      <td>1</td>\n",
       "      <td>5</td>\n",
       "      <td>5</td>\n",
       "      <td>1</td>\n",
       "      <td>1</td>\n",
       "      <td>22</td>\n",
       "      <td>10</td>\n",
       "      <td>1</td>\n",
       "      <td>0</td>\n",
       "      <td>0</td>\n",
       "      <td>0</td>\n",
       "      <td>1</td>\n",
       "      <td>0</td>\n",
       "      <td>19</td>\n",
       "      <td>0</td>\n",
       "      <td>-18.826232</td>\n",
       "    </tr>\n",
       "    <tr>\n",
       "      <th>3</th>\n",
       "      <td>1</td>\n",
       "      <td>8</td>\n",
       "      <td>2</td>\n",
       "      <td>15</td>\n",
       "      <td>1</td>\n",
       "      <td>1</td>\n",
       "      <td>23</td>\n",
       "      <td>4</td>\n",
       "      <td>1</td>\n",
       "      <td>0</td>\n",
       "      <td>0</td>\n",
       "      <td>1</td>\n",
       "      <td>0</td>\n",
       "      <td>0</td>\n",
       "      <td>20</td>\n",
       "      <td>0</td>\n",
       "      <td>3.313201</td>\n",
       "    </tr>\n",
       "    <tr>\n",
       "      <th>4</th>\n",
       "      <td>2</td>\n",
       "      <td>12</td>\n",
       "      <td>1</td>\n",
       "      <td>3</td>\n",
       "      <td>0</td>\n",
       "      <td>1</td>\n",
       "      <td>22</td>\n",
       "      <td>10</td>\n",
       "      <td>0</td>\n",
       "      <td>0</td>\n",
       "      <td>0</td>\n",
       "      <td>1</td>\n",
       "      <td>0</td>\n",
       "      <td>0</td>\n",
       "      <td>45</td>\n",
       "      <td>0</td>\n",
       "      <td>2.076791</td>\n",
       "    </tr>\n",
       "  </tbody>\n",
       "</table>\n",
       "</div>"
      ],
      "text/plain": [
       "   Marital status  Application mode  Application order  Course  \\\n",
       "0               1                 8                  5       2   \n",
       "1               1                 6                  1      11   \n",
       "2               1                 1                  5       5   \n",
       "3               1                 8                  2      15   \n",
       "4               2                12                  1       3   \n",
       "\n",
       "   Daytime/evening attendance  Previous qualification  Mother's qualification  \\\n",
       "0                           1                       1                      13   \n",
       "1                           1                       1                       1   \n",
       "2                           1                       1                      22   \n",
       "3                           1                       1                      23   \n",
       "4                           0                       1                      22   \n",
       "\n",
       "   Father's occupation  Displaced  Educational special needs  Debtor  \\\n",
       "0                   10          1                          0       0   \n",
       "1                    4          1                          0       0   \n",
       "2                   10          1                          0       0   \n",
       "3                    4          1                          0       0   \n",
       "4                   10          0                          0       0   \n",
       "\n",
       "   Tuition fees up to date  Gender  Scholarship holder  Age at enrollment  \\\n",
       "0                        1       1                   0                 20   \n",
       "1                        0       1                   0                 19   \n",
       "2                        0       1                   0                 19   \n",
       "3                        1       0                   0                 20   \n",
       "4                        1       0                   0                 45   \n",
       "\n",
       "   International  Curricular 1st and 2nd sem PCA  \n",
       "0              0                      -21.116404  \n",
       "1              0                        2.514829  \n",
       "2              0                      -18.826232  \n",
       "3              0                        3.313201  \n",
       "4              0                        2.076791  "
      ]
     },
     "execution_count": 188,
     "metadata": {},
     "output_type": "execute_result"
    }
   ],
   "source": [
    "# Assigning x and y features\n",
    "y = np.array(data['Target'])\n",
    "X_features = data.drop('Target', axis = 1)\n",
    "X_features.head()"
   ]
  },
  {
   "cell_type": "code",
   "execution_count": 189,
   "metadata": {
    "colab": {
     "base_uri": "https://localhost:8080/"
    },
    "id": "15R8Uzo0acRg",
    "outputId": "4613ef37-2d24-482f-d699-8208f039ac48"
   },
   "outputs": [
    {
     "data": {
      "text/plain": [
       "array([ True, False,  True, False, False])"
      ]
     },
     "execution_count": 189,
     "metadata": {},
     "output_type": "execute_result"
    }
   ],
   "source": [
    "y[:5]"
   ]
  },
  {
   "cell_type": "code",
   "execution_count": 190,
   "metadata": {
    "colab": {
     "base_uri": "https://localhost:8080/"
    },
    "id": "NsEuRFsdaue0",
    "outputId": "7b5eb40d-f419-4640-de1e-2ca9f4530f10"
   },
   "outputs": [
    {
     "data": {
      "text/plain": [
       "array([[-0.29482875,  0.21006857,  2.49089589, ..., -0.43036282,\n",
       "        -0.15968211, -2.42563525],\n",
       "       [-0.29482875, -0.16740639, -0.55406775, ..., -0.56216796,\n",
       "        -0.15968211,  0.28887762],\n",
       "       [-0.29482875, -1.11109377,  2.49089589, ..., -0.56216796,\n",
       "        -0.15968211, -2.16256376],\n",
       "       ...,\n",
       "       [-0.29482875, -1.11109377, -0.55406775, ...,  0.8876885 ,\n",
       "        -0.15968211,  0.45198555],\n",
       "       [-0.29482875, -1.11109377, -0.55406775, ..., -0.43036282,\n",
       "        -0.15968211,  0.02764264],\n",
       "       [-0.29482875, -0.35614386, -0.55406775, ..., -0.16675256,\n",
       "         6.26244216,  0.19929284]], shape=(4424, 17))"
      ]
     },
     "execution_count": 190,
     "metadata": {},
     "output_type": "execute_result"
    }
   ],
   "source": [
    "# Normalizing data\n",
    "scaler =  StandardScaler()\n",
    "X = scaler.fit_transform(X_features)\n",
    "X\n"
   ]
  },
  {
   "cell_type": "markdown",
   "metadata": {
    "id": "MlTqzj6PcEkW"
   },
   "source": [
    "## Model Building\n",
    "\n",
    "Because the target variable is categorical (either Dropout or not), this is a classification problem.\n",
    "We will train five supervised machine learning classification models:\n",
    "\n",
    "* Logistic regression\n",
    "* Decision trees\n",
    "* Support vector machines\n",
    "* Random forest\n",
    "* K-nearest neighbors\n",
    "\n",
    "First, we will split our data into training, validation, and test sets. We will set the random state to 42 to ensure reproducibility."
   ]
  },
  {
   "cell_type": "markdown",
   "metadata": {
    "id": "uyO15igog41X"
   },
   "source": [
    "### Splitting Training and Test set"
   ]
  },
  {
   "cell_type": "code",
   "execution_count": 191,
   "metadata": {
    "id": "YsSBw4uAAIdY"
   },
   "outputs": [],
   "source": [
    "# Split data into training and testing sets\n",
    "X_train, X_test, y_train, y_test = train_test_split(X, y, test_size=0.2, random_state=42)"
   ]
  },
  {
   "cell_type": "markdown",
   "metadata": {
    "id": "wLPj0SrJNDk9"
   },
   "source": [
    "### Creating validation set"
   ]
  },
  {
   "cell_type": "code",
   "execution_count": 192,
   "metadata": {
    "id": "a2aie8KGNGv_"
   },
   "outputs": [],
   "source": [
    "# Split data into training and validation sets\n",
    "X_train, X_val, y_train, y_val = train_test_split(X_train, y_train, test_size=0.2, random_state=42)"
   ]
  },
  {
   "cell_type": "markdown",
   "metadata": {
    "id": "2OVCmpo4MqLa"
   },
   "source": [
    "### Baseline Model Accuracy"
   ]
  },
  {
   "cell_type": "code",
   "execution_count": 193,
   "metadata": {
    "colab": {
     "base_uri": "https://localhost:8080/"
    },
    "id": "uF5AJigIl3gg",
    "outputId": "6d556be7-fa3b-49e7-89d9-6e99320672a6"
   },
   "outputs": [
    {
     "name": "stdout",
     "output_type": "stream",
     "text": [
      "Unique Values: [False  True]\n",
      "Frequency Values: [3003 1421]\n",
      "\n",
      "\n",
      "The baseline accuracy to beat is 67.88%\n"
     ]
    }
   ],
   "source": [
    "# Calculate the baseline accuracy to beat\n",
    "target_value, frequency = np.unique(y, return_counts = True)\n",
    "print(\"Unique Values:\", target_value)\n",
    "\n",
    "print(\"Frequency Values:\", frequency)\n",
    "\n",
    "# Maximum frequency value\n",
    "max_val = frequency.max()\n",
    "length_y = len(y)\n",
    "\n",
    "print('\\n')\n",
    "\n",
    "baseline_acc = round((max_val/length_y) * 100, 3)\n",
    "print(f'The baseline accuracy to beat is {baseline_acc}%')\n",
    "\n"
   ]
  },
  {
   "cell_type": "markdown",
   "metadata": {
    "id": "Sk2GepGthCTy"
   },
   "source": [
    "A list is created to store all the trained models with the best hyperparameters"
   ]
  },
  {
   "cell_type": "code",
   "execution_count": 194,
   "metadata": {
    "id": "elzy9F4qJBgY"
   },
   "outputs": [],
   "source": [
    "# List of all trained models\n",
    "\n",
    "trained_models = []"
   ]
  },
  {
   "cell_type": "markdown",
   "metadata": {
    "id": "u6DTgQ_b40bR"
   },
   "source": [
    "### Logistic Regression"
   ]
  },
  {
   "cell_type": "code",
   "execution_count": 195,
   "metadata": {
    "colab": {
     "base_uri": "https://localhost:8080/"
    },
    "id": "AqRA4CluAIdh",
    "outputId": "8a5fb95a-1e14-49a4-98f7-0576491f5bd3"
   },
   "outputs": [
    {
     "name": "stdout",
     "output_type": "stream",
     "text": [
      "Accuracy of logistic regression model on the training set is 83.2%\n",
      "Accuracy of logistic regression model on the validation set is 84.3%\n",
      "\n",
      "\n",
      "Accuracy of logistic regression model on the test set is 81.0%\n"
     ]
    }
   ],
   "source": [
    "# Train a logistic regression model\n",
    "lr_model = LogisticRegression(random_state = 42, max_iter= 1000)\n",
    "lr_model.fit(X_train, y_train)\n",
    "\n",
    "\n",
    "# Predict target values for train data\n",
    "y_pred_train = lr_model.predict(X_train)\n",
    "\n",
    "# Predict target values for validation data\n",
    "y_pred_val = lr_model.predict(X_val)\n",
    "\n",
    "# Predict target values for test data\n",
    "y_pred = lr_model.predict(X_test)\n",
    "\n",
    "# Evaluate the model's accuracy\n",
    "lr_acc_train = round(accuracy_score(y_train, y_pred_train), 3)\n",
    "lr_acc_val = round(accuracy_score(y_val, y_pred_val), 3)\n",
    "lr_acc = round(accuracy_score(y_test, y_pred), 2)\n",
    "print(f'Accuracy of logistic regression model on the training set is {lr_acc_train * 100}%')\n",
    "print(f'Accuracy of logistic regression model on the validation set is {lr_acc_val * 100}%')\n",
    "print('\\n')\n",
    "print(f'Accuracy of logistic regression model on the test set is {lr_acc * 100}%')\n",
    "\n",
    "# Add to model list\n",
    "trained_models.append(lr_model)\n"
   ]
  },
  {
   "cell_type": "markdown",
   "metadata": {
    "id": "01GbUfi8doQP"
   },
   "source": [
    "### Decision Trees"
   ]
  },
  {
   "cell_type": "code",
   "execution_count": 196,
   "metadata": {
    "colab": {
     "base_uri": "https://localhost:8080/"
    },
    "id": "I0CKmM4lM9p4",
    "outputId": "1dd12c3f-8dfa-4253-d90d-cb68b444b76d"
   },
   "outputs": [
    {
     "name": "stderr",
     "output_type": "stream",
     "text": [
      "100%|██████████| 20/20 [00:00<00:00, 92.94it/s] \n"
     ]
    }
   ],
   "source": [
    "# List for possible depth value\n",
    "depth_values = list(range(1, 21))\n",
    "\n",
    "# Create empty list for training data and validation data\n",
    "training_acc = []\n",
    "validation_acc = []\n",
    "\n",
    "for d in tqdm(depth_values):\n",
    "  tree_model = DecisionTreeClassifier(max_depth=d, random_state=42)\n",
    "  tree_model.fit(X_train, y_train)\n",
    "\n",
    "  # Training accuracy\n",
    "  y_pred_training = tree_model.predict(X_train)\n",
    "  training_acc.append(accuracy_score(y_train, y_pred_training))\n",
    "\n",
    "  # Validation accuracy\n",
    "  y_pred_validation = tree_model.predict(X_val)\n",
    "  validation_acc.append(accuracy_score(y_val, y_pred_validation))\n"
   ]
  },
  {
   "cell_type": "code",
   "execution_count": 197,
   "metadata": {
    "colab": {
     "base_uri": "https://localhost:8080/",
     "height": 472
    },
    "id": "GsbwKECZM9mU",
    "outputId": "b0965710-c833-420c-cf7b-bc93d6637414"
   },
   "outputs": [
    {
     "data": {
      "text/plain": [
       "<matplotlib.legend.Legend at 0x2da7c3f5e50>"
      ]
     },
     "execution_count": 197,
     "metadata": {},
     "output_type": "execute_result"
    },
    {
     "data": {
      "image/png": "[encoded data removed]",
      "text/plain": [
       "<Figure size 640x480 with 1 Axes>"
      ]
     },
     "metadata": {},
     "output_type": "display_data"
    }
   ],
   "source": [
    "# Plotting learning curve\n",
    "plt.plot(training_acc, label = 'Training Accuracy')\n",
    "plt.plot(validation_acc, label = 'Validation Accuracy')\n",
    "plt.xlabel('Depth Values')\n",
    "plt.ylabel('Accuracy Score')\n",
    "plt.title('Learning curve')\n",
    "plt.legend()"
   ]
  },
  {
   "cell_type": "markdown",
   "metadata": {
    "id": "fgkC9E2jist4"
   },
   "source": [
    "From the training curve we can estimate that the best depth value that yielded the highest accuracy score was between 2 and 5. However, a better way to pick out the depth value would be to get the index value that corresponds to the highest accuracy score in the `validation_acc` list"
   ]
  },
  {
   "cell_type": "code",
   "execution_count": 198,
   "metadata": {
    "colab": {
     "base_uri": "https://localhost:8080/"
    },
    "id": "uBOSIHdzM9il",
    "outputId": "67bcd649-80c6-4df8-b087-23598b6637f1"
   },
   "outputs": [
    {
     "name": "stdout",
     "output_type": "stream",
     "text": [
      "Best depth value with an accuracy of 85.31% on the validation set is 3\n"
     ]
    }
   ],
   "source": [
    "# Best depth value\n",
    "best_val_acc = max(validation_acc)\n",
    "best_depth = validation_acc.index(best_val_acc) +1\n",
    "print(f'Best depth value with an accuracy of {round(best_val_acc * 100, 2)}% on the validation set is {best_depth}')\n"
   ]
  },
  {
   "cell_type": "code",
   "execution_count": 199,
   "metadata": {
    "colab": {
     "base_uri": "https://localhost:8080/"
    },
    "id": "77HX_bEyd3dJ",
    "outputId": "ae265f31-7694-4263-e051-bcf51082f02f"
   },
   "outputs": [
    {
     "name": "stdout",
     "output_type": "stream",
     "text": [
      "Accuracy of Decision tree model is 83.2%\n"
     ]
    }
   ],
   "source": [
    "# Train a Decision tree model with best depth\n",
    "tree_model = DecisionTreeClassifier(max_depth=best_depth, random_state=42)\n",
    "tree_model.fit(X_train, y_train)\n",
    "\n",
    "# Predict target values for test data\n",
    "y_pred = tree_model.predict(X_test)\n",
    "\n",
    "# Evaluate the model's accuracy\n",
    "tree_acc = round(accuracy_score(y_test, y_pred), 3)\n",
    "print(f'Accuracy of Decision tree model is {tree_acc * 100}%')\n",
    "\n",
    "\n",
    "# Add to model list\n",
    "trained_models.append(tree_model)"
   ]
  },
  {
   "cell_type": "markdown",
   "metadata": {
    "id": "ZBBTtkOBfKjW"
   },
   "source": [
    "### Support Vector Machines"
   ]
  },
  {
   "cell_type": "code",
   "execution_count": 200,
   "metadata": {
    "colab": {
     "base_uri": "https://localhost:8080/"
    },
    "id": "HnBaAsfggw7X",
    "outputId": "13258c7a-f3e4-4fcd-8182-da365a7354d5"
   },
   "outputs": [
    {
     "name": "stderr",
     "output_type": "stream",
     "text": [
      "100%|██████████| 4/4 [00:00<00:00,  5.72it/s]\n"
     ]
    },
    {
     "data": {
      "text/plain": [
       "{'linear': 0.8432203389830508,\n",
       " 'poly': 0.8375706214689266,\n",
       " 'rbf': 0.8403954802259888,\n",
       " 'sigmoid': 0.7641242937853108}"
      ]
     },
     "execution_count": 200,
     "metadata": {},
     "output_type": "execute_result"
    }
   ],
   "source": [
    "# Iterating to see which kernel gives the best result\n",
    "kernels = ['linear', 'poly', 'rbf', 'sigmoid']\n",
    "score_list = {}\n",
    "scores = 0\n",
    "svm_linear = []\n",
    "\n",
    "for k in tqdm(kernels):\n",
    "    svm_model = SVC(random_state = 42, kernel= k)\n",
    "    svm_model.fit(X_train, y_train)\n",
    "    if k == 'linear':\n",
    "      svm_linear.append(svm_model)\n",
    "    f_score = svm_model.score(X_val, y_val)\n",
    "    score_list.update({k: f_score})\n",
    "\n",
    "\n",
    "score_list"
   ]
  },
  {
   "cell_type": "code",
   "execution_count": 201,
   "metadata": {
    "id": "BA0i_0B3tNug"
   },
   "outputs": [],
   "source": [
    "max_val = max(score_list.values())\n",
    "list_values = list(score_list.values())\n",
    "list_keys = list(score_list.keys())\n",
    "\n",
    "# Best kernel\n",
    "k = list_keys[list_values.index(max_val)]"
   ]
  },
  {
   "cell_type": "code",
   "execution_count": 202,
   "metadata": {
    "colab": {
     "base_uri": "https://localhost:8080/",
     "height": 57
    },
    "id": "V7rz76rStAtW",
    "outputId": "412ac1b8-7103-4dd4-addb-696b3e48a9eb"
   },
   "outputs": [
    {
     "data": {
      "text/markdown": [
       "\n",
       "#### From the result we can determine that the optimal kernal for the SVC is linear"
      ],
      "text/plain": [
       "<IPython.core.display.Markdown object>"
      ]
     },
     "execution_count": 202,
     "metadata": {},
     "output_type": "execute_result"
    }
   ],
   "source": [
    "from IPython.display import Markdown\n",
    "Markdown(f\"\"\"\n",
    "#### From the result we can determine that the optimal kernal for the SVC is {k}\"\"\")"
   ]
  },
  {
   "cell_type": "code",
   "execution_count": 203,
   "metadata": {
    "colab": {
     "base_uri": "https://localhost:8080/"
    },
    "id": "T6SDVtFsfPyH",
    "outputId": "034b77e0-efdf-4b7d-d9fd-24aca652da32"
   },
   "outputs": [
    {
     "name": "stdout",
     "output_type": "stream",
     "text": [
      "Accuracy of Support vector classifier model is 80.9%\n"
     ]
    }
   ],
   "source": [
    "# Train a SVC model\n",
    "svm_model = SVC(random_state = 42, kernel = k)\n",
    "svm_model.fit(X_train, y_train)\n",
    "\n",
    "# Predict target values for test data\n",
    "y_pred = svm_model.predict(X_test)\n",
    "\n",
    "# Evaluate the model's accuracy\n",
    "svm_acc = round(accuracy_score(y_test, y_pred),3)\n",
    "print(f'Accuracy of Support vector classifier model is {svm_acc * 100}%')\n",
    "\n",
    "# Add to model list\n",
    "trained_models.append(svm_model)"
   ]
  },
  {
   "cell_type": "markdown",
   "metadata": {
    "id": "mWpj5LGnueCO"
   },
   "source": [
    "To train both Random forest and K-nearest neighbours, we will make use of Grid Search to determine the best parameters. We will also stick to the default value for cross validation which is 5 folds."
   ]
  },
  {
   "cell_type": "markdown",
   "metadata": {
    "id": "woyfMfARiRt1"
   },
   "source": [
    "### Random forest"
   ]
  },
  {
   "cell_type": "code",
   "execution_count": 204,
   "metadata": {
    "colab": {
     "base_uri": "https://localhost:8080/"
    },
    "id": "sXaII3kqiYAC",
    "outputId": "0f937ead-afb8-4409-b1b0-54f142244135"
   },
   "outputs": [
    {
     "name": "stdout",
     "output_type": "stream",
     "text": [
      "With default parameters: \n",
      "Accuracy of Random forest model on training data is 99.9%\n",
      "Accuracy of Random forest model on validation data is 85.5%\n"
     ]
    }
   ],
   "source": [
    "# Train a Random forest model\n",
    "rf_model = RandomForestClassifier(random_state=42)\n",
    "rf_model.fit(X_train, y_train)\n",
    "\n",
    "# Predict target values for training data\n",
    "y_pred_train = rf_model.predict(X_train)\n",
    "rf_acc_train = round(accuracy_score(y_train, y_pred_train), 3)\n",
    "\n",
    "# Predict target values for validation data\n",
    "y_pred_val = rf_model.predict(X_val)\n",
    "rf_acc_val = round(accuracy_score(y_val, y_pred_val), 3)\n",
    "\n",
    "print('With default parameters: ')\n",
    "print(f'Accuracy of Random forest model on training data is {rf_acc_train * 100}%')\n",
    "print(f'Accuracy of Random forest model on validation data is {rf_acc_val * 100}%')\n"
   ]
  },
  {
   "cell_type": "markdown",
   "metadata": {
    "id": "WMdvS9GWkG6U"
   },
   "source": [
    "We can perform a grid search to generate best parameters to train a random forest model."
   ]
  },
  {
   "cell_type": "code",
   "execution_count": 205,
   "metadata": {
    "colab": {
     "base_uri": "https://localhost:8080/"
    },
    "id": "j_bloccisZia",
    "outputId": "12ff2a32-1856-484e-af42-945290fead38"
   },
   "outputs": [
    {
     "name": "stdout",
     "output_type": "stream",
     "text": [
      "Grid search parameters: {'max_depth': 3, 'max_features': 'sqrt', 'max_leaf_nodes': 9, 'n_estimators': 100}\n"
     ]
    }
   ],
   "source": [
    "# Using Grid search to determine best parameters\n",
    "param_grid = {\n",
    "    'n_estimators': [25, 50, 75, 100],\n",
    "    'max_features': ['sqrt', 'log2', None],\n",
    "    'max_depth': [3, 6, 9],\n",
    "    'max_leaf_nodes': [3, 6, 9],\n",
    "}\n",
    "\n",
    "grid_search = GridSearchCV(RandomForestClassifier(random_state=42),\n",
    "                           param_grid=param_grid, cv = 5)\n",
    "# Fit Grid\n",
    "grid_search.fit(X_train, y_train)\n",
    "best_rf_parameters = grid_search.best_params_\n",
    "print(f'Grid search parameters: {best_rf_parameters}')\n",
    "\n"
   ]
  },
  {
   "cell_type": "code",
   "execution_count": 206,
   "metadata": {
    "colab": {
     "base_uri": "https://localhost:8080/"
    },
    "id": "0Jz3EmR8tRt0",
    "outputId": "33f54a24-765b-4d05-f392-8c3fa78cdcd4"
   },
   "outputs": [
    {
     "name": "stdout",
     "output_type": "stream",
     "text": [
      "With Grid search best estimator parameters: \n",
      "Accuracy of Random forest model on training data is 86.5%\n",
      "Accuracy of Random forest model on validation data is 85.0%\n"
     ]
    }
   ],
   "source": [
    "# Train a Random forest model with best estimator from Grid search\n",
    "grid_rf_model = RandomForestClassifier(random_state = 42,\n",
    "                                       max_depth = best_rf_parameters['max_depth'],\n",
    "                                      max_leaf_nodes = best_rf_parameters['max_leaf_nodes'],\n",
    "                                      n_estimators = best_rf_parameters['n_estimators'],\n",
    "                                       max_features = best_rf_parameters['max_features'])\n",
    "grid_rf_model.fit(X_train, y_train)\n",
    "\n",
    "# Predict target values for training data\n",
    "y_pred_train = grid_rf_model.predict(X_train)\n",
    "rf_acc_train = round(accuracy_score(y_train, y_pred_train), 3)\n",
    "\n",
    "# Predict target values for validation data\n",
    "y_pred_val = grid_rf_model.predict(X_val)\n",
    "rf_acc_val = round(accuracy_score(y_val, y_pred_val), 3)\n",
    "\n",
    "print('With Grid search best estimator parameters: ')\n",
    "print(f'Accuracy of Random forest model on training data is {rf_acc_train * 100}%')\n",
    "print(f'Accuracy of Random forest model on validation data is {rf_acc_val * 100}%')"
   ]
  },
  {
   "cell_type": "code",
   "execution_count": 207,
   "metadata": {
    "colab": {
     "base_uri": "https://localhost:8080/"
    },
    "id": "bh0iDLGfwGF7",
    "outputId": "7f3a4a6c-9782-4fd6-8c42-0c2b15e69362"
   },
   "outputs": [
    {
     "name": "stdout",
     "output_type": "stream",
     "text": [
      "Accuracy of Random forest model on test data is 82.8%\n"
     ]
    }
   ],
   "source": [
    "# Predict target values for test data using default parameters\n",
    "y_pred = grid_rf_model.predict(X_test)\n",
    "rf_acc = round(accuracy_score(y_test, y_pred), 3)\n",
    "print(f'Accuracy of Random forest model on test data is {rf_acc * 100}%')\n",
    "\n",
    "# Add to model list\n",
    "trained_models.append(grid_rf_model)"
   ]
  },
  {
   "cell_type": "markdown",
   "metadata": {
    "id": "8DrywTQ5hnzo"
   },
   "source": [
    "### K- Nearest Neighbours\n",
    "\n"
   ]
  },
  {
   "cell_type": "code",
   "execution_count": 208,
   "metadata": {
    "colab": {
     "base_uri": "https://localhost:8080/"
    },
    "id": "8g4yTrL0VTB8",
    "outputId": "599e7e5d-44b1-40b8-df29-8bfd3a6fe51c"
   },
   "outputs": [
    {
     "name": "stdout",
     "output_type": "stream",
     "text": [
      "Grid search parameters: {'n_neighbors': np.int64(13)}\n"
     ]
    }
   ],
   "source": [
    "# Define the best parameter values using grid search\n",
    "param_grid = {'n_neighbors': np.arange(1, 25)}\n",
    "\n",
    "grid_knn = GridSearchCV(KNeighborsClassifier(), param_grid, cv=5)\n",
    "\n",
    "# Fit grid\n",
    "grid_knn.fit(X_train, y_train)\n",
    "best_knn_parameters = grid_knn.best_params_\n",
    "print(f'Grid search parameters: {best_knn_parameters}')\n"
   ]
  },
  {
   "cell_type": "code",
   "execution_count": 209,
   "metadata": {
    "colab": {
     "base_uri": "https://localhost:8080/"
    },
    "id": "liH1onPmVS5Y",
    "outputId": "5deb1e31-c47a-4c28-efaa-19035b13c14f"
   },
   "outputs": [
    {
     "name": "stdout",
     "output_type": "stream",
     "text": [
      "With Grid search best estimator parameters: \n",
      "Accuracy of KNN model on training data is 83.89999999999999%\n",
      "Accuracy of KNN model on validation data is 82.3%\n"
     ]
    }
   ],
   "source": [
    "# Train Knn model with grid parameters\n",
    "grid_knn_model = KNeighborsClassifier(n_neighbors= best_knn_parameters['n_neighbors'])\n",
    "grid_knn_model.fit(X_train, y_train)\n",
    "# Predict target values for training data\n",
    "y_pred_train = grid_knn_model.predict(X_train)\n",
    "knn_acc_train = round(accuracy_score(y_train, y_pred_train), 3)\n",
    "\n",
    "# Predict target values for validation data\n",
    "y_pred_val = grid_knn_model.predict(X_val)\n",
    "knn_acc_val = round(accuracy_score(y_val, y_pred_val), 3)\n",
    "\n",
    "print('With Grid search best estimator parameters: ')\n",
    "print(f'Accuracy of KNN model on training data is {knn_acc_train * 100}%')\n",
    "print(f'Accuracy of KNN model on validation data is {knn_acc_val * 100}%')"
   ]
  },
  {
   "cell_type": "markdown",
   "metadata": {
    "id": "QSfP3_hzrsca"
   },
   "source": [
    "We will also try the elbow method to compare optimal K value"
   ]
  },
  {
   "cell_type": "code",
   "execution_count": 210,
   "metadata": {
    "colab": {
     "base_uri": "https://localhost:8080/"
    },
    "id": "nOoLArtchnfI",
    "outputId": "f2e5dfbf-bc9e-45dc-9a2e-d8648ea42825"
   },
   "outputs": [
    {
     "name": "stderr",
     "output_type": "stream",
     "text": [
      "100%|██████████| 20/20 [00:00<00:00, 28.15it/s]\n"
     ]
    }
   ],
   "source": [
    "# Empty list for accuracy scores\n",
    "train_accuracy = []\n",
    "val_accuracy = []\n",
    "for i in tqdm(range(1,21)):\n",
    "  # Train a Knn model\n",
    "  knn_model = KNeighborsClassifier(n_neighbors=i)\n",
    "  # Fit model\n",
    "  knn_model.fit(X_train, y_train)\n",
    "\n",
    "  # Prediction for training data\n",
    "  y_pred_train = knn_model.predict(X_train)\n",
    "  # Prediction for validation data\n",
    "  y_pred_val = knn_model.predict(X_val)\n",
    "\n",
    "  # Accuracy Scores\n",
    "  train_accuracy.append(accuracy_score(y_train, y_pred_train))\n",
    "  val_accuracy.append(accuracy_score(y_val, y_pred_val))"
   ]
  },
  {
   "cell_type": "code",
   "execution_count": 211,
   "metadata": {
    "colab": {
     "base_uri": "https://localhost:8080/",
     "height": 472
    },
    "id": "mkkhzP8syHxA",
    "outputId": "9176e1ae-7771-4280-ec65-7b4de3284cfb"
   },
   "outputs": [
    {
     "data": {
      "image/png": "[encoded data removed]",
      "text/plain": [
       "<Figure size 640x480 with 1 Axes>"
      ]
     },
     "metadata": {},
     "output_type": "display_data"
    }
   ],
   "source": [
    "# Plotting learning curve\n",
    "plt.plot(train_accuracy, label = 'Training Accuracy')\n",
    "plt.plot(val_accuracy, label = 'Validation Accuracy')\n",
    "plt.xlabel('n Values')\n",
    "plt.ylabel('Accuracy Score')\n",
    "plt.title('Learning curve')\n",
    "plt.legend();"
   ]
  },
  {
   "cell_type": "markdown",
   "metadata": {
    "id": "0KGFufe_sBki"
   },
   "source": [
    "From the curve, we can estimate that the best k values are between 12 and 17."
   ]
  },
  {
   "cell_type": "code",
   "execution_count": 212,
   "metadata": {
    "id": "Xhy5L2M591sn"
   },
   "outputs": [],
   "source": [
    "# Determine best n value\n",
    "n = val_accuracy.index(max(val_accuracy)) + 1"
   ]
  },
  {
   "cell_type": "code",
   "execution_count": 213,
   "metadata": {
    "colab": {
     "base_uri": "https://localhost:8080/"
    },
    "id": "h2-DyOu2w2Zx",
    "outputId": "715ddcb5-db1e-4d4f-9709-bb7fd7932bf9"
   },
   "outputs": [
    {
     "name": "stdout",
     "output_type": "stream",
     "text": [
      "From the result we can determine that the optimal n value with the highest score of 82.3% is 11\n"
     ]
    }
   ],
   "source": [
    "print(f'From the result we can determine that the optimal n value with the highest score of {round(max(val_accuracy), 3)  * 100}% is {n}')"
   ]
  },
  {
   "cell_type": "markdown",
   "metadata": {
    "id": "ERKcBWFKyQ3o"
   },
   "source": [
    "We will use the best parameters retrieved from grid search."
   ]
  },
  {
   "cell_type": "code",
   "execution_count": 214,
   "metadata": {
    "colab": {
     "base_uri": "https://localhost:8080/"
    },
    "id": "Xxo4M1Kmig5e",
    "outputId": "2ae3542b-d807-400b-de1a-ca40ea0dcdf7"
   },
   "outputs": [
    {
     "name": "stdout",
     "output_type": "stream",
     "text": [
      "Accuracy of KNN model is 79.5%\n"
     ]
    }
   ],
   "source": [
    "# Train a KNN model\n",
    "knn_model = KNeighborsClassifier(n_neighbors=n)\n",
    "# knn_model = KNeighborsClassifier(n_neighbors=21)\n",
    "knn_model.fit(X_train, y_train)\n",
    "\n",
    "# Predict target values for test data\n",
    "y_pred = knn_model.predict(X_test)\n",
    "\n",
    "# Evaluate the model's accuracy\n",
    "knn_acc = round(accuracy_score(y_test, y_pred), 3)\n",
    "print(f'Accuracy of KNN model is {knn_acc * 100}%')\n",
    "\n",
    "# Confusion Matrix\n",
    "knn_matrix = confusion_matrix(y_test, y_pred)\n",
    "\n",
    "# Add to model list\n",
    "trained_models.append(knn_model)"
   ]
  },
  {
   "cell_type": "markdown",
   "metadata": {
    "id": "blgmbmzg3C49"
   },
   "source": [
    "## Accuracy for each classification model\n",
    "\n",
    "For each model we would view which of them performs the best."
   ]
  },
  {
   "cell_type": "code",
   "execution_count": 215,
   "metadata": {
    "colab": {
     "base_uri": "https://localhost:8080/",
     "height": 421
    },
    "id": "6OLHxRAeOZrT",
    "outputId": "763c6170-13a8-4513-9a60-6431008c35d4"
   },
   "outputs": [],
   "source": [
    "# Bar plot showing each classifier\n",
    "accuracy_of_models = {'SVC': svm_acc,\n",
    "                      'Random Forest': rf_acc,\n",
    "                      'Logistic Regression': lr_acc,\n",
    "                      'KNN': knn_acc,\n",
    "                      'Decision Tree': tree_acc}\n",
    "\n",
    "\n",
    "fig = px.bar(y = list(accuracy_of_models.keys()), x= list(accuracy_of_models.values()),\n",
    "             color = list(accuracy_of_models.values()),\n",
    "             width = 800, height = 400,\n",
    "             color_discrete_sequence=px.colors.qualitative.G10,\n",
    "             labels={'y':'Classifier', 'x':'Accuracy'}, text_auto=True)\n",
    "\n",
    "\n",
    "fig.update_layout(title='Accuracy performance of classification models',\n",
    "                  showlegend=False)\n",
    "model_comparison_img = fig_to_base64(fig, 'png')"
   ]
  },
  {
   "cell_type": "markdown",
   "metadata": {
    "id": "SbxDjOzNpK2X"
   },
   "source": [
    "## Confusion maxtix of the best classifier"
   ]
  },
  {
   "cell_type": "code",
   "execution_count": 216,
   "metadata": {
    "colab": {
     "base_uri": "https://localhost:8080/"
    },
    "id": "ufn7wja8Lerj",
    "outputId": "5c290703-5879-404d-875e-d4f70bdd5d47"
   },
   "outputs": [
    {
     "data": {
      "text/plain": [
       "{'Logistic Regression': LogisticRegression(max_iter=1000, random_state=42),\n",
       " 'Decision Tree': DecisionTreeClassifier(max_depth=3, random_state=42),\n",
       " 'SVC': SVC(kernel='linear', random_state=42),\n",
       " 'Random Forest': RandomForestClassifier(max_depth=3, max_leaf_nodes=9, random_state=42),\n",
       " 'KNN': KNeighborsClassifier(n_neighbors=11)}"
      ]
     },
     "execution_count": 216,
     "metadata": {},
     "output_type": "execute_result"
    }
   ],
   "source": [
    "list_of_models = ['Logistic Regression','Decision Tree', 'SVC','Random Forest', 'KNN']\n",
    "dictionary_models = {list_of_models[i]: trained_models[i] for i in range(len(list_of_models))}\n",
    "dictionary_models"
   ]
  },
  {
   "cell_type": "code",
   "execution_count": 217,
   "metadata": {
    "colab": {
     "base_uri": "https://localhost:8080/",
     "height": 472
    },
    "id": "2hIW2Cq9VkEz",
    "outputId": "fa4f39c2-b1bd-4ba9-830c-17a2ea870cb6"
   },
   "outputs": [
    {
     "data": {
      "image/png": "[encoded data removed]",
      "text/plain": [
       "<Figure size 800x600 with 2 Axes>"
      ]
     },
     "metadata": {},
     "output_type": "display_data"
    }
   ],
   "source": [
    "# Find the highest score\n",
    "scores = [svm_acc, rf_acc, lr_acc, knn_acc, tree_acc]\n",
    "best_score = max(scores)\n",
    "key_best_model = ''\n",
    "best_model = ''\n",
    "\n",
    "# Generate a heatmap for the classifier that has the highest score\n",
    "for key, value in accuracy_of_models.items():\n",
    "  if best_score == value:\n",
    "    key_best_model = key\n",
    "    best_model = dictionary_models[key_best_model]\n",
    "    fig, ax = plt.subplots(figsize=(8, 6))\n",
    "    disp = ConfusionMatrixDisplay.from_estimator(best_model,\n",
    "                                          X_test, y_test,\n",
    "                                          display_labels=['Not dropout', 'Dropout'])\n",
    "    disp.plot(cmap='Blues', ax=ax)\n",
    "    plt.title(f'{key_best_model} Confusion Matrix')\n",
    "    plt.tight_layout()\n",
    "    confusion_matrix_img = fig_to_base64(fig, 'png')\n",
    "    plt.close()\n",
    "\n",
    "    #Pop the best performing model from dictionary\n",
    "    dictionary_models.pop(key_best_model)\n",
    "\n",
    "best_accuracy = round(accuracy_of_models[key_best_model] * 100, 2)\n",
    "\n",
    "# Add model comparison to report\n",
    "report_content += f\"\"\"\n",
    "        <div class=\"section\">\n",
    "            <h2> Confusion Matrix of {key_best_model}</h2>\n",
    "              <div class=\"figure\">\n",
    "                <img src=\"{confusion_matrix_img}\" alt=\"Model Comparison\">\n",
    "                <div class=\"figure-caption\">Confusion matrix of {key_best_model}</div>\n",
    "            </div>\n",
    "            <h2>Model Comparison</h2>\n",
    "            <p>Several machine learning models were trained and evaluated to predict student dropout. The models were compared based on their accuracy scores.</p>\n",
    "            \n",
    "            <div class=\"figure\">\n",
    "                <img src=\"{model_comparison_img}\" alt=\"Model Comparison\">\n",
    "                <div class=\"figure-caption\">Accuracy comparison of different machine learning models</div>\n",
    "            </div>\n",
    "            \n",
    "            <h3>Best Model: {key_best_model}</h3>\n",
    "            <p>The {key_best_model} model achieved the highest accuracy of {best_accuracy}% on the test set.</p>\n",
    "            \n",
    "            <h3>Feature Importance</h3>\n",
    "            <p>The following features were found to be most important in predicting student dropout:</p>\n",
    "            <ul>\n",
    "\"\"\""
   ]
  },
  {
   "cell_type": "markdown",
   "metadata": {
    "id": "GLGFePkysao9"
   },
   "source": [
    "### Confusion matrix for other classifiers"
   ]
  },
  {
   "cell_type": "code",
   "execution_count": 218,
   "metadata": {
    "colab": {
     "base_uri": "https://localhost:8080/",
     "height": 379
    },
    "id": "hk8Chf-Oulpf",
    "outputId": "8a12d4ff-f1d5-4127-a4e6-371124343850"
   },
   "outputs": [
    {
     "data": {
      "image/png": "[encoded data removed]",
      "text/plain": [
       "<Figure size 2000x2000 with 4 Axes>"
      ]
     },
     "metadata": {},
     "output_type": "display_data"
    }
   ],
   "source": [
    "colors = ['BuPu', 'CMRmap', 'gnuplot', 'cividis']\n",
    "position = 0\n",
    "\n",
    "fig, ax = plt.subplots(1, 4, figsize=(20, 20))\n",
    "\n",
    "for key, value in dictionary_models.items():\n",
    "    disp = ConfusionMatrixDisplay.from_estimator(value,\n",
    "                                                 X_test, y_test,\n",
    "                                                 display_labels=['Not dropout', 'Dropout'],\n",
    "                                                 cmap=colors[position], ax=ax[position], colorbar=False)\n",
    "\n",
    "    # Add title\n",
    "    ax[position].set_title(key)\n",
    "\n",
    "    position += 1\n",
    "\n",
    "other_confusion_matrices = fig_to_base64(fig,'png')\n",
    "\n",
    "report_content += f\"\"\"\n",
    "            <h3>Confusion Matrices for other classifiers</h3>\n",
    "            <div class=\"figure\">\n",
    "                <img src=\"{other_confusion_matrices}\" alt=\"onfusion Matrices for other classifiers\">\n",
    "                <div class=\"figure-caption\">Confusion Matrices for other classifiers</div>\n",
    "            </div>\n",
    "        </div>\n",
    "\"\"\"\n"
   ]
  },
  {
   "cell_type": "code",
   "execution_count": 219,
   "metadata": {
    "colab": {
     "base_uri": "https://localhost:8080/",
     "height": 57
    },
    "id": "SDCPdv2YzhO0",
    "outputId": "91d87414-b4e4-441d-d5f1-c0feba4c02e6"
   },
   "outputs": [
    {
     "data": {
      "text/markdown": [
       "\n",
       "#### From the results above we can see that DecisionTreeClassifier(max_depth=3, random_state=42) perfoms best with the highest accuracy of 83.2%"
      ],
      "text/plain": [
       "<IPython.core.display.Markdown object>"
      ]
     },
     "execution_count": 219,
     "metadata": {},
     "output_type": "execute_result"
    }
   ],
   "source": [
    "Markdown(f\"\"\"\n",
    "#### From the results above we can see that {best_model} perfoms best with the highest accuracy of {round(best_score * 100, 2)}%\"\"\")\n"
   ]
  },
  {
   "cell_type": "markdown",
   "metadata": {
    "id": "1aJDwoBZJAP3"
   },
   "source": [
    "## Results"
   ]
  },
  {
   "cell_type": "markdown",
   "metadata": {
    "id": "aXujxWuoNW6w"
   },
   "source": [
    "### Feature Importances\n",
    "\n",
    "We take a look at features selected as good predictiors by some of the trained models.\n"
   ]
  },
  {
   "cell_type": "code",
   "execution_count": 220,
   "metadata": {
    "id": "7mBvpGR1_3sj"
   },
   "outputs": [],
   "source": [
    "# create list for features\n",
    "feature = X_features.columns"
   ]
  },
  {
   "cell_type": "code",
   "execution_count": 221,
   "metadata": {
    "id": "6f3g-BhINbFP"
   },
   "outputs": [
    {
     "name": "stdout",
     "output_type": "stream",
     "text": [
      "Top 3 features based on Decision Tree: Curricular 1st and 2nd sem PCA, Tuition fees up to date, Age at enrollment\n"
     ]
    }
   ],
   "source": [
    "# Logistic regression\n",
    "importances = lr_model.coef_[0]\n",
    "lr_feature_importance = pd.Series(np.exp(importances), index = feature).sort_values()\n",
    "\n",
    "# Decision tree\n",
    "dt_importance = pd.Series(np.exp(tree_model.feature_importances_), index = feature).sort_values(ascending=False)\n",
    "\n",
    "# Random forest\n",
    "rf_importance = pd.Series(np.exp(rf_model.feature_importances_), index = feature).sort_values()\n",
    "\n",
    "# SVM linear kernel\n",
    "svm_importance = pd.Series(np.exp(svm_linear[0].coef_[0]), index = feature).sort_values()\n",
    "\n",
    "# Get top 3 features from Decision Tree (since it's the best)\n",
    "top_features = ', '.join(list(dt_importance.index[:3]))\n",
    "\n",
    "print(\"Top 3 features based on Decision Tree:\", top_features)\n"
   ]
  },
  {
   "cell_type": "code",
   "execution_count": 222,
   "metadata": {
    "colab": {
     "base_uri": "https://localhost:8080/",
     "height": 807
    },
    "id": "nEXuAN3Bkq6K",
    "outputId": "f69fd0c5-d152-4b70-bb5a-71b4c87bf75e"
   },
   "outputs": [
    {
     "data": {
      "image/png": "[encoded data removed]",
      "text/plain": [
       "<Figure size 1500x800 with 4 Axes>"
      ]
     },
     "metadata": {},
     "output_type": "display_data"
    }
   ],
   "source": [
    "# Create subplots (2x2 grid)\n",
    "fig, ax = plt.subplots(2, 2, figsize=(15, 8))\n",
    "\n",
    "# Add the bar plots\n",
    "lr_feature_importance.plot(kind='barh', ax=ax[0, 0], title='Logistic Regression Importance')\n",
    "dt_importance.plot(kind='barh', ax=ax[0, 1], title='Decision Trees Importance')\n",
    "rf_importance.plot(kind='barh', ax=ax[1, 0], title='Random Forest Importance')\n",
    "svm_importance.plot(kind='barh', ax=ax[1, 1], title='SVM Importance')\n",
    "\n",
    "# Add vertical lines at x=1 for reference\n",
    "for row in ax:\n",
    "    for axes in row:\n",
    "        axes.axvline(x=1, color='black', linestyle='--', linewidth=1)  # Dashed line for better visibility\n",
    "        axes.grid(axis='x', linestyle=':', alpha=0.7)  # Light grid for readability\n",
    "\n",
    "plt.tight_layout()  # Adjust layout to prevent overlap\n",
    "plt.show()\n",
    "\n",
    "# Convert figure to Base64\n",
    "important_features = fig_to_base64(fig, 'png')\n",
    "\n",
    "# Embed in HTML report\n",
    "report_content += f\"\"\"\n",
    "            <h3>Important Features</h3>\n",
    "            <div class=\"figure\">\n",
    "                <img src=\"{important_features}\" alt=\"Important Features\">\n",
    "                <div class=\"figure-caption\">Important Features</div>\n",
    "            </div>\n",
    "        </div>\n",
    "\"\"\"\n"
   ]
  },
  {
   "cell_type": "markdown",
   "metadata": {
    "id": "Br_d_PLvK0AT"
   },
   "source": [
    "When using logistic regression, SVM, random forest, and decision trees to predict outcomes, it was found that the features \"Courses\" and \"Age at enrollment\" were very important, with values greater than 1. This means that these features have a significant impact on predicting outcomes. It is important to consider these factors carefully when designing models for accurate predictions in similar contexts.\n",
    "\n",
    "In other words, the two features \"Courses\" and \"Age at enrollment\" are strong predictors of the outcome, and they should be included in any model that aims to accurately predict outcomes."
   ]
  },
  {
   "cell_type": "code",
   "execution_count": 223,
   "metadata": {
    "colab": {
     "base_uri": "https://localhost:8080/",
     "height": 527
    },
    "id": "mvDDiq-CzQVq",
    "outputId": "e70c70fd-8a40-47ca-b915-003d17eeb6c1"
   },
   "outputs": [
    {
     "name": "stdout",
     "output_type": "stream",
     "text": [
      "The AUC score is :0.78\n"
     ]
    }
   ],
   "source": [
    "# ROC curve for best model's predictions\n",
    "y_pred = best_model.predict(X_test)\n",
    "fpr, tpr, threshold = roc_curve(y_test, y_pred)\n",
    "roc_auc = auc(fpr, tpr)\n",
    "\n",
    "# Plot ROC curve\n",
    "fig, ax = plt.subplots(figsize=(8, 6))\n",
    "plt.plot(fpr, tpr)\n",
    "plt.plot([0, 1], [0, 1], 'r--')\n",
    "plt.xlim([0.0, 1.0])\n",
    "plt.ylim([0.0, 1.05])\n",
    "plt.xlabel('False Positive Rate')\n",
    "plt.ylabel('True Positive Rate')\n",
    "plt.title('ROC Curve')\n",
    "plt.text(0.6, 0.2, f'AUC = {roc_auc:.2f}', fontsize=12)\n",
    "plt.tight_layout()\n",
    "roc_curve_img = fig_to_base64(fig, 'png')\n",
    "plt.close()\n",
    "# Print the AUC score\n",
    "print(f'The AUC score is :{round(roc_auc, 2)}')"
   ]
  },
  {
   "cell_type": "markdown",
   "metadata": {
    "id": "xLPJoxs_WhYu"
   },
   "source": [
    "An AUC score of 0.78 means that the model is able to correctly classify 78% of the positive cases and 22% of the negative cases. This is considered to be good performance, but not excellent. There is still room for improvement"
   ]
  },
  {
   "cell_type": "code",
   "execution_count": 224,
   "metadata": {},
   "outputs": [
    {
     "name": "stdout",
     "output_type": "stream",
     "text": [
      "Report generated successfully: student_dropout_analysis_report.html\n"
     ]
    }
   ],
   "source": [
    "# Add ROC curve to report\n",
    "report_content += f\"\"\"\n",
    "        <div class=\"section\">\n",
    "            <h2>Model Performance</h2>\n",
    "            <p>The {key_best_model} model was evaluated using ROC curve analysis.</p>\n",
    "            \n",
    "            <div class=\"figure\">\n",
    "                <img src=\"{roc_curve_img}\" alt=\"ROC Curve\">\n",
    "                <div class=\"figure-caption\">ROC curve with AUC = {roc_auc:.2f}</div>\n",
    "            </div>\n",
    "        </div>\n",
    "\"\"\"\n",
    "\n",
    "# Add conclusions and recommendations\n",
    "report_content += f\"\"\"\n",
    "        <div class=\"section\">\n",
    "            <h2>Conclusions and Recommendations</h2>\n",
    "            \n",
    "            <h3>Key Findings:</h3>\n",
    "            <ul>\n",
    "                <li>The {key_best_model} model achieved an accuracy of {best_accuracy}% in predicting student dropout.</li>\n",
    "                <li>Financial factors, particularly tuition payment status and debt, are strong predictors of dropout.</li>\n",
    "                <li>Academic performance in the first and second semesters (as measured by the PCA feature) is the most important predictor.</li>\n",
    "                <li>Some courses show significantly higher dropout rates than others.</li>\n",
    "            </ul>\n",
    "            \n",
    "            <h3>Recommendations:</h3>\n",
    "            <ul>\n",
    "                <li><strong>Early Intervention:</strong> Implement early warning systems to identify at-risk students based on the key features identified.</li>\n",
    "                <li><strong>Financial Support:</strong> Expand scholarship programs and financial aid for students with economic difficulties.</li>\n",
    "                <li><strong>Academic Support:</strong> Provide additional academic support for students struggling in courses with high dropout rates.</li>\n",
    "                <li><strong>Course-Specific Strategies:</strong> Develop targeted retention strategies for courses with higher dropout rates.</li>\n",
    "            </ul>\n",
    "        </div>\n",
    "    </div>\n",
    "</body>\n",
    "</html>\n",
    "\"\"\"\n",
    "\n",
    "# Save the report\n",
    "with open('student_dropout_analysis_report.html', 'w') as f:\n",
    "    f.write(report_content.format(\n",
    "        date=datetime.now().strftime(\"%B %d, %Y\"),\n",
    "        best_model=key_best_model,\n",
    "        best_accuracy=best_accuracy,\n",
    "        dropout_percentage=dropout_percentage,\n",
    "        top_features=top_features\n",
    "    ))\n",
    "\n",
    "print(\"Report generated successfully: student_dropout_analysis_report.html\")"
   ]
  }
 ],
 "metadata": {
  "colab": {
   "provenance": []
  },
  "kernelspec": {
   "display_name": "DS",
   "language": "python",
   "name": "python3"
  },
  "language_info": {
   "codemirror_mode": {
    "name": "ipython",
    "version": 3
   },
   "file_extension": ".py",
   "mimetype": "text/x-python",
   "name": "python",
   "nbconvert_exporter": "python",
   "pygments_lexer": "ipython3",
   "version": "3.13.2"
  },
  "orig_nbformat": 4
 },
 "nbformat": 4,
 "nbformat_minor": 0
}
